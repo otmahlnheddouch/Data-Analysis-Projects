{
 "cells": [
  {
   "cell_type": "markdown",
   "id": "26d7c05c",
   "metadata": {},
   "source": [
    "# Importing Data ,Libraries and tools"
   ]
  },
  {
   "cell_type": "code",
   "execution_count": 1,
   "id": "ee867f9a",
   "metadata": {},
   "outputs": [
    {
     "name": "stderr",
     "output_type": "stream",
     "text": [
      "C:\\Users\\mehdi\\anaconda3\\lib\\site-packages\\scipy\\__init__.py:138: UserWarning: A NumPy version >=1.16.5 and <1.23.0 is required for this version of SciPy (detected version 1.23.2)\n",
      "  warnings.warn(f\"A NumPy version >={np_minversion} and <{np_maxversion} is required for this version of \"\n"
     ]
    }
   ],
   "source": [
    "import pandas as pd \n",
    "import numpy as np\n",
    "import matplotlib.pyplot as plt\n",
    "import seaborn as sns"
   ]
  },
  {
   "cell_type": "code",
   "execution_count": 2,
   "id": "8852156b",
   "metadata": {},
   "outputs": [],
   "source": [
    "plt.style.use('seaborn-bright')"
   ]
  },
  {
   "cell_type": "code",
   "execution_count": 2,
   "id": "dc0cac58",
   "metadata": {},
   "outputs": [
    {
     "data": {
      "text/html": [
       "<div>\n",
       "<style scoped>\n",
       "    .dataframe tbody tr th:only-of-type {\n",
       "        vertical-align: middle;\n",
       "    }\n",
       "\n",
       "    .dataframe tbody tr th {\n",
       "        vertical-align: top;\n",
       "    }\n",
       "\n",
       "    .dataframe thead th {\n",
       "        text-align: right;\n",
       "    }\n",
       "</style>\n",
       "<table border=\"1\" class=\"dataframe\">\n",
       "  <thead>\n",
       "    <tr style=\"text-align: right;\">\n",
       "      <th></th>\n",
       "      <th>Date</th>\n",
       "      <th>Day</th>\n",
       "      <th>Month</th>\n",
       "      <th>Year</th>\n",
       "      <th>Customer_Age</th>\n",
       "      <th>Age_Group</th>\n",
       "      <th>Customer_Gender</th>\n",
       "      <th>Country</th>\n",
       "      <th>State</th>\n",
       "      <th>Product_Category</th>\n",
       "      <th>Sub_Category</th>\n",
       "      <th>Product</th>\n",
       "      <th>Order_Quantity</th>\n",
       "      <th>Unit_Cost</th>\n",
       "      <th>Unit_Price</th>\n",
       "      <th>Profit</th>\n",
       "      <th>Cost</th>\n",
       "      <th>Revenue</th>\n",
       "    </tr>\n",
       "  </thead>\n",
       "  <tbody>\n",
       "    <tr>\n",
       "      <th>44382</th>\n",
       "      <td>2014-05-20</td>\n",
       "      <td>20</td>\n",
       "      <td>May</td>\n",
       "      <td>2014</td>\n",
       "      <td>45</td>\n",
       "      <td>Adults (35-64)</td>\n",
       "      <td>M</td>\n",
       "      <td>United States</td>\n",
       "      <td>California</td>\n",
       "      <td>Clothing</td>\n",
       "      <td>Jerseys</td>\n",
       "      <td>Short-Sleeve Classic Jersey, S</td>\n",
       "      <td>20</td>\n",
       "      <td>42</td>\n",
       "      <td>54</td>\n",
       "      <td>218</td>\n",
       "      <td>840</td>\n",
       "      <td>1058</td>\n",
       "    </tr>\n",
       "    <tr>\n",
       "      <th>83837</th>\n",
       "      <td>2013-10-28</td>\n",
       "      <td>28</td>\n",
       "      <td>October</td>\n",
       "      <td>2013</td>\n",
       "      <td>32</td>\n",
       "      <td>Young Adults (25-34)</td>\n",
       "      <td>F</td>\n",
       "      <td>United States</td>\n",
       "      <td>California</td>\n",
       "      <td>Accessories</td>\n",
       "      <td>Tires and Tubes</td>\n",
       "      <td>Mountain Tire Tube</td>\n",
       "      <td>17</td>\n",
       "      <td>2</td>\n",
       "      <td>5</td>\n",
       "      <td>49</td>\n",
       "      <td>34</td>\n",
       "      <td>83</td>\n",
       "    </tr>\n",
       "    <tr>\n",
       "      <th>70010</th>\n",
       "      <td>2013-12-06</td>\n",
       "      <td>6</td>\n",
       "      <td>December</td>\n",
       "      <td>2013</td>\n",
       "      <td>31</td>\n",
       "      <td>Young Adults (25-34)</td>\n",
       "      <td>F</td>\n",
       "      <td>United Kingdom</td>\n",
       "      <td>England</td>\n",
       "      <td>Bikes</td>\n",
       "      <td>Road Bikes</td>\n",
       "      <td>Road-750 Black, 52</td>\n",
       "      <td>1</td>\n",
       "      <td>344</td>\n",
       "      <td>540</td>\n",
       "      <td>174</td>\n",
       "      <td>344</td>\n",
       "      <td>518</td>\n",
       "    </tr>\n",
       "    <tr>\n",
       "      <th>43085</th>\n",
       "      <td>2016-03-30</td>\n",
       "      <td>30</td>\n",
       "      <td>March</td>\n",
       "      <td>2016</td>\n",
       "      <td>36</td>\n",
       "      <td>Adults (35-64)</td>\n",
       "      <td>M</td>\n",
       "      <td>United States</td>\n",
       "      <td>California</td>\n",
       "      <td>Accessories</td>\n",
       "      <td>Hydration Packs</td>\n",
       "      <td>Hydration Pack - 70 oz.</td>\n",
       "      <td>2</td>\n",
       "      <td>21</td>\n",
       "      <td>55</td>\n",
       "      <td>66</td>\n",
       "      <td>42</td>\n",
       "      <td>108</td>\n",
       "    </tr>\n",
       "    <tr>\n",
       "      <th>85339</th>\n",
       "      <td>2016-02-15</td>\n",
       "      <td>15</td>\n",
       "      <td>February</td>\n",
       "      <td>2016</td>\n",
       "      <td>33</td>\n",
       "      <td>Young Adults (25-34)</td>\n",
       "      <td>M</td>\n",
       "      <td>United States</td>\n",
       "      <td>California</td>\n",
       "      <td>Accessories</td>\n",
       "      <td>Tires and Tubes</td>\n",
       "      <td>Patch Kit/8 Patches</td>\n",
       "      <td>5</td>\n",
       "      <td>1</td>\n",
       "      <td>2</td>\n",
       "      <td>5</td>\n",
       "      <td>5</td>\n",
       "      <td>10</td>\n",
       "    </tr>\n",
       "    <tr>\n",
       "      <th>82336</th>\n",
       "      <td>2015-08-12</td>\n",
       "      <td>12</td>\n",
       "      <td>August</td>\n",
       "      <td>2015</td>\n",
       "      <td>33</td>\n",
       "      <td>Young Adults (25-34)</td>\n",
       "      <td>F</td>\n",
       "      <td>Canada</td>\n",
       "      <td>British Columbia</td>\n",
       "      <td>Accessories</td>\n",
       "      <td>Tires and Tubes</td>\n",
       "      <td>Mountain Tire Tube</td>\n",
       "      <td>1</td>\n",
       "      <td>2</td>\n",
       "      <td>5</td>\n",
       "      <td>3</td>\n",
       "      <td>2</td>\n",
       "      <td>5</td>\n",
       "    </tr>\n",
       "    <tr>\n",
       "      <th>31074</th>\n",
       "      <td>2014-05-17</td>\n",
       "      <td>17</td>\n",
       "      <td>May</td>\n",
       "      <td>2014</td>\n",
       "      <td>27</td>\n",
       "      <td>Young Adults (25-34)</td>\n",
       "      <td>M</td>\n",
       "      <td>Germany</td>\n",
       "      <td>Saarland</td>\n",
       "      <td>Accessories</td>\n",
       "      <td>Helmets</td>\n",
       "      <td>Sport-100 Helmet, Red</td>\n",
       "      <td>15</td>\n",
       "      <td>13</td>\n",
       "      <td>35</td>\n",
       "      <td>236</td>\n",
       "      <td>195</td>\n",
       "      <td>431</td>\n",
       "    </tr>\n",
       "    <tr>\n",
       "      <th>104831</th>\n",
       "      <td>2015-12-21</td>\n",
       "      <td>21</td>\n",
       "      <td>December</td>\n",
       "      <td>2015</td>\n",
       "      <td>18</td>\n",
       "      <td>Youth (&lt;25)</td>\n",
       "      <td>M</td>\n",
       "      <td>United States</td>\n",
       "      <td>California</td>\n",
       "      <td>Accessories</td>\n",
       "      <td>Tires and Tubes</td>\n",
       "      <td>Road Tire Tube</td>\n",
       "      <td>26</td>\n",
       "      <td>1</td>\n",
       "      <td>4</td>\n",
       "      <td>76</td>\n",
       "      <td>26</td>\n",
       "      <td>102</td>\n",
       "    </tr>\n",
       "    <tr>\n",
       "      <th>92454</th>\n",
       "      <td>2014-05-24</td>\n",
       "      <td>24</td>\n",
       "      <td>May</td>\n",
       "      <td>2014</td>\n",
       "      <td>29</td>\n",
       "      <td>Young Adults (25-34)</td>\n",
       "      <td>F</td>\n",
       "      <td>Australia</td>\n",
       "      <td>Queensland</td>\n",
       "      <td>Accessories</td>\n",
       "      <td>Tires and Tubes</td>\n",
       "      <td>Patch Kit/8 Patches</td>\n",
       "      <td>15</td>\n",
       "      <td>1</td>\n",
       "      <td>2</td>\n",
       "      <td>10</td>\n",
       "      <td>15</td>\n",
       "      <td>25</td>\n",
       "    </tr>\n",
       "    <tr>\n",
       "      <th>51778</th>\n",
       "      <td>2014-05-28</td>\n",
       "      <td>28</td>\n",
       "      <td>May</td>\n",
       "      <td>2014</td>\n",
       "      <td>50</td>\n",
       "      <td>Adults (35-64)</td>\n",
       "      <td>F</td>\n",
       "      <td>United States</td>\n",
       "      <td>Washington</td>\n",
       "      <td>Bikes</td>\n",
       "      <td>Mountain Bikes</td>\n",
       "      <td>Mountain-200 Black, 46</td>\n",
       "      <td>1</td>\n",
       "      <td>1252</td>\n",
       "      <td>2295</td>\n",
       "      <td>538</td>\n",
       "      <td>1252</td>\n",
       "      <td>1790</td>\n",
       "    </tr>\n",
       "  </tbody>\n",
       "</table>\n",
       "</div>"
      ],
      "text/plain": [
       "              Date  Day     Month  Year  Customer_Age             Age_Group  \\\n",
       "44382   2014-05-20   20       May  2014            45        Adults (35-64)   \n",
       "83837   2013-10-28   28   October  2013            32  Young Adults (25-34)   \n",
       "70010   2013-12-06    6  December  2013            31  Young Adults (25-34)   \n",
       "43085   2016-03-30   30     March  2016            36        Adults (35-64)   \n",
       "85339   2016-02-15   15  February  2016            33  Young Adults (25-34)   \n",
       "82336   2015-08-12   12    August  2015            33  Young Adults (25-34)   \n",
       "31074   2014-05-17   17       May  2014            27  Young Adults (25-34)   \n",
       "104831  2015-12-21   21  December  2015            18           Youth (<25)   \n",
       "92454   2014-05-24   24       May  2014            29  Young Adults (25-34)   \n",
       "51778   2014-05-28   28       May  2014            50        Adults (35-64)   \n",
       "\n",
       "       Customer_Gender         Country             State Product_Category  \\\n",
       "44382                M   United States        California         Clothing   \n",
       "83837                F   United States        California      Accessories   \n",
       "70010                F  United Kingdom           England            Bikes   \n",
       "43085                M   United States        California      Accessories   \n",
       "85339                M   United States        California      Accessories   \n",
       "82336                F          Canada  British Columbia      Accessories   \n",
       "31074                M         Germany          Saarland      Accessories   \n",
       "104831               M   United States        California      Accessories   \n",
       "92454                F       Australia        Queensland      Accessories   \n",
       "51778                F   United States        Washington            Bikes   \n",
       "\n",
       "           Sub_Category                         Product  Order_Quantity  \\\n",
       "44382           Jerseys  Short-Sleeve Classic Jersey, S              20   \n",
       "83837   Tires and Tubes              Mountain Tire Tube              17   \n",
       "70010        Road Bikes              Road-750 Black, 52               1   \n",
       "43085   Hydration Packs         Hydration Pack - 70 oz.               2   \n",
       "85339   Tires and Tubes             Patch Kit/8 Patches               5   \n",
       "82336   Tires and Tubes              Mountain Tire Tube               1   \n",
       "31074           Helmets           Sport-100 Helmet, Red              15   \n",
       "104831  Tires and Tubes                  Road Tire Tube              26   \n",
       "92454   Tires and Tubes             Patch Kit/8 Patches              15   \n",
       "51778    Mountain Bikes          Mountain-200 Black, 46               1   \n",
       "\n",
       "        Unit_Cost  Unit_Price  Profit  Cost  Revenue  \n",
       "44382          42          54     218   840     1058  \n",
       "83837           2           5      49    34       83  \n",
       "70010         344         540     174   344      518  \n",
       "43085          21          55      66    42      108  \n",
       "85339           1           2       5     5       10  \n",
       "82336           2           5       3     2        5  \n",
       "31074          13          35     236   195      431  \n",
       "104831          1           4      76    26      102  \n",
       "92454           1           2      10    15       25  \n",
       "51778        1252        2295     538  1252     1790  "
      ]
     },
     "execution_count": 2,
     "metadata": {},
     "output_type": "execute_result"
    }
   ],
   "source": [
    "sales = pd.read_csv('Dataset/sales_data.csv')\n",
    "sales.sample(10)"
   ]
  },
  {
   "cell_type": "code",
   "execution_count": 4,
   "id": "601c6cab",
   "metadata": {},
   "outputs": [
    {
     "data": {
      "text/plain": [
       "Index(['Date', 'Day', 'Month', 'Year', 'Customer_Age', 'Age_Group',\n",
       "       'Customer_Gender', 'Country', 'State', 'Product_Category',\n",
       "       'Sub_Category', 'Product', 'Order_Quantity', 'Unit_Cost', 'Unit_Price',\n",
       "       'Profit', 'Cost', 'Revenue'],\n",
       "      dtype='object')"
      ]
     },
     "execution_count": 4,
     "metadata": {},
     "output_type": "execute_result"
    }
   ],
   "source": [
    "sales.columns"
   ]
  },
  {
   "cell_type": "code",
   "execution_count": 5,
   "id": "05250f71",
   "metadata": {},
   "outputs": [
    {
     "name": "stdout",
     "output_type": "stream",
     "text": [
      "<class 'pandas.core.frame.DataFrame'>\n",
      "RangeIndex: 113036 entries, 0 to 113035\n",
      "Data columns (total 18 columns):\n",
      " #   Column            Non-Null Count   Dtype \n",
      "---  ------            --------------   ----- \n",
      " 0   Date              113036 non-null  object\n",
      " 1   Day               113036 non-null  int64 \n",
      " 2   Month             113036 non-null  object\n",
      " 3   Year              113036 non-null  int64 \n",
      " 4   Customer_Age      113036 non-null  int64 \n",
      " 5   Age_Group         113036 non-null  object\n",
      " 6   Customer_Gender   113036 non-null  object\n",
      " 7   Country           113036 non-null  object\n",
      " 8   State             113036 non-null  object\n",
      " 9   Product_Category  113036 non-null  object\n",
      " 10  Sub_Category      113036 non-null  object\n",
      " 11  Product           113036 non-null  object\n",
      " 12  Order_Quantity    113036 non-null  int64 \n",
      " 13  Unit_Cost         113036 non-null  int64 \n",
      " 14  Unit_Price        113036 non-null  int64 \n",
      " 15  Profit            113036 non-null  int64 \n",
      " 16  Cost              113036 non-null  int64 \n",
      " 17  Revenue           113036 non-null  int64 \n",
      "dtypes: int64(9), object(9)\n",
      "memory usage: 15.5+ MB\n"
     ]
    }
   ],
   "source": [
    "sales.info()"
   ]
  },
  {
   "cell_type": "code",
   "execution_count": 6,
   "id": "d69c923b",
   "metadata": {},
   "outputs": [
    {
     "data": {
      "text/html": [
       "<div>\n",
       "<style scoped>\n",
       "    .dataframe tbody tr th:only-of-type {\n",
       "        vertical-align: middle;\n",
       "    }\n",
       "\n",
       "    .dataframe tbody tr th {\n",
       "        vertical-align: top;\n",
       "    }\n",
       "\n",
       "    .dataframe thead th {\n",
       "        text-align: right;\n",
       "    }\n",
       "</style>\n",
       "<table border=\"1\" class=\"dataframe\">\n",
       "  <thead>\n",
       "    <tr style=\"text-align: right;\">\n",
       "      <th></th>\n",
       "      <th>Day</th>\n",
       "      <th>Year</th>\n",
       "      <th>Customer_Age</th>\n",
       "      <th>Order_Quantity</th>\n",
       "      <th>Unit_Cost</th>\n",
       "      <th>Unit_Price</th>\n",
       "      <th>Profit</th>\n",
       "      <th>Cost</th>\n",
       "      <th>Revenue</th>\n",
       "    </tr>\n",
       "  </thead>\n",
       "  <tbody>\n",
       "    <tr>\n",
       "      <th>count</th>\n",
       "      <td>113036.000000</td>\n",
       "      <td>113036.000000</td>\n",
       "      <td>113036.000000</td>\n",
       "      <td>113036.000000</td>\n",
       "      <td>113036.000000</td>\n",
       "      <td>113036.000000</td>\n",
       "      <td>113036.000000</td>\n",
       "      <td>113036.000000</td>\n",
       "      <td>113036.000000</td>\n",
       "    </tr>\n",
       "    <tr>\n",
       "      <th>mean</th>\n",
       "      <td>15.665753</td>\n",
       "      <td>2014.401739</td>\n",
       "      <td>35.919212</td>\n",
       "      <td>11.901660</td>\n",
       "      <td>267.296366</td>\n",
       "      <td>452.938427</td>\n",
       "      <td>285.051665</td>\n",
       "      <td>469.318695</td>\n",
       "      <td>754.370360</td>\n",
       "    </tr>\n",
       "    <tr>\n",
       "      <th>std</th>\n",
       "      <td>8.781567</td>\n",
       "      <td>1.272510</td>\n",
       "      <td>11.021936</td>\n",
       "      <td>9.561857</td>\n",
       "      <td>549.835483</td>\n",
       "      <td>922.071219</td>\n",
       "      <td>453.887443</td>\n",
       "      <td>884.866118</td>\n",
       "      <td>1309.094674</td>\n",
       "    </tr>\n",
       "    <tr>\n",
       "      <th>min</th>\n",
       "      <td>1.000000</td>\n",
       "      <td>2011.000000</td>\n",
       "      <td>17.000000</td>\n",
       "      <td>1.000000</td>\n",
       "      <td>1.000000</td>\n",
       "      <td>2.000000</td>\n",
       "      <td>-30.000000</td>\n",
       "      <td>1.000000</td>\n",
       "      <td>2.000000</td>\n",
       "    </tr>\n",
       "    <tr>\n",
       "      <th>25%</th>\n",
       "      <td>8.000000</td>\n",
       "      <td>2013.000000</td>\n",
       "      <td>28.000000</td>\n",
       "      <td>2.000000</td>\n",
       "      <td>2.000000</td>\n",
       "      <td>5.000000</td>\n",
       "      <td>29.000000</td>\n",
       "      <td>28.000000</td>\n",
       "      <td>63.000000</td>\n",
       "    </tr>\n",
       "    <tr>\n",
       "      <th>50%</th>\n",
       "      <td>16.000000</td>\n",
       "      <td>2014.000000</td>\n",
       "      <td>35.000000</td>\n",
       "      <td>10.000000</td>\n",
       "      <td>9.000000</td>\n",
       "      <td>24.000000</td>\n",
       "      <td>101.000000</td>\n",
       "      <td>108.000000</td>\n",
       "      <td>223.000000</td>\n",
       "    </tr>\n",
       "    <tr>\n",
       "      <th>75%</th>\n",
       "      <td>23.000000</td>\n",
       "      <td>2016.000000</td>\n",
       "      <td>43.000000</td>\n",
       "      <td>20.000000</td>\n",
       "      <td>42.000000</td>\n",
       "      <td>70.000000</td>\n",
       "      <td>358.000000</td>\n",
       "      <td>432.000000</td>\n",
       "      <td>800.000000</td>\n",
       "    </tr>\n",
       "    <tr>\n",
       "      <th>max</th>\n",
       "      <td>31.000000</td>\n",
       "      <td>2016.000000</td>\n",
       "      <td>87.000000</td>\n",
       "      <td>32.000000</td>\n",
       "      <td>2171.000000</td>\n",
       "      <td>3578.000000</td>\n",
       "      <td>15096.000000</td>\n",
       "      <td>42978.000000</td>\n",
       "      <td>58074.000000</td>\n",
       "    </tr>\n",
       "  </tbody>\n",
       "</table>\n",
       "</div>"
      ],
      "text/plain": [
       "                 Day           Year   Customer_Age  Order_Quantity  \\\n",
       "count  113036.000000  113036.000000  113036.000000   113036.000000   \n",
       "mean       15.665753    2014.401739      35.919212       11.901660   \n",
       "std         8.781567       1.272510      11.021936        9.561857   \n",
       "min         1.000000    2011.000000      17.000000        1.000000   \n",
       "25%         8.000000    2013.000000      28.000000        2.000000   \n",
       "50%        16.000000    2014.000000      35.000000       10.000000   \n",
       "75%        23.000000    2016.000000      43.000000       20.000000   \n",
       "max        31.000000    2016.000000      87.000000       32.000000   \n",
       "\n",
       "           Unit_Cost     Unit_Price         Profit           Cost  \\\n",
       "count  113036.000000  113036.000000  113036.000000  113036.000000   \n",
       "mean      267.296366     452.938427     285.051665     469.318695   \n",
       "std       549.835483     922.071219     453.887443     884.866118   \n",
       "min         1.000000       2.000000     -30.000000       1.000000   \n",
       "25%         2.000000       5.000000      29.000000      28.000000   \n",
       "50%         9.000000      24.000000     101.000000     108.000000   \n",
       "75%        42.000000      70.000000     358.000000     432.000000   \n",
       "max      2171.000000    3578.000000   15096.000000   42978.000000   \n",
       "\n",
       "             Revenue  \n",
       "count  113036.000000  \n",
       "mean      754.370360  \n",
       "std      1309.094674  \n",
       "min         2.000000  \n",
       "25%        63.000000  \n",
       "50%       223.000000  \n",
       "75%       800.000000  \n",
       "max     58074.000000  "
      ]
     },
     "execution_count": 6,
     "metadata": {},
     "output_type": "execute_result"
    }
   ],
   "source": [
    "sales.describe()"
   ]
  },
  {
   "cell_type": "code",
   "execution_count": 7,
   "id": "31ebc992",
   "metadata": {},
   "outputs": [
    {
     "data": {
      "text/html": [
       "<div>\n",
       "<style scoped>\n",
       "    .dataframe tbody tr th:only-of-type {\n",
       "        vertical-align: middle;\n",
       "    }\n",
       "\n",
       "    .dataframe tbody tr th {\n",
       "        vertical-align: top;\n",
       "    }\n",
       "\n",
       "    .dataframe thead th {\n",
       "        text-align: right;\n",
       "    }\n",
       "</style>\n",
       "<table border=\"1\" class=\"dataframe\">\n",
       "  <thead>\n",
       "    <tr style=\"text-align: right;\">\n",
       "      <th></th>\n",
       "      <th>Date</th>\n",
       "      <th>Day</th>\n",
       "      <th>Month</th>\n",
       "      <th>Year</th>\n",
       "      <th>Customer_Age</th>\n",
       "      <th>Age_Group</th>\n",
       "      <th>Customer_Gender</th>\n",
       "      <th>Country</th>\n",
       "      <th>State</th>\n",
       "      <th>Product_Category</th>\n",
       "      <th>Sub_Category</th>\n",
       "      <th>Product</th>\n",
       "      <th>Order_Quantity</th>\n",
       "      <th>Unit_Cost</th>\n",
       "      <th>Unit_Price</th>\n",
       "      <th>Profit</th>\n",
       "      <th>Cost</th>\n",
       "      <th>Revenue</th>\n",
       "    </tr>\n",
       "  </thead>\n",
       "  <tbody>\n",
       "    <tr>\n",
       "      <th>0</th>\n",
       "      <td>2013-11-26</td>\n",
       "      <td>26</td>\n",
       "      <td>November</td>\n",
       "      <td>2013</td>\n",
       "      <td>19</td>\n",
       "      <td>Youth (&lt;25)</td>\n",
       "      <td>M</td>\n",
       "      <td>Canada</td>\n",
       "      <td>British Columbia</td>\n",
       "      <td>Accessories</td>\n",
       "      <td>Bike Racks</td>\n",
       "      <td>Hitch Rack - 4-Bike</td>\n",
       "      <td>8</td>\n",
       "      <td>45</td>\n",
       "      <td>120</td>\n",
       "      <td>590</td>\n",
       "      <td>360</td>\n",
       "      <td>950</td>\n",
       "    </tr>\n",
       "    <tr>\n",
       "      <th>1</th>\n",
       "      <td>2015-11-26</td>\n",
       "      <td>26</td>\n",
       "      <td>November</td>\n",
       "      <td>2015</td>\n",
       "      <td>19</td>\n",
       "      <td>Youth (&lt;25)</td>\n",
       "      <td>M</td>\n",
       "      <td>Canada</td>\n",
       "      <td>British Columbia</td>\n",
       "      <td>Accessories</td>\n",
       "      <td>Bike Racks</td>\n",
       "      <td>Hitch Rack - 4-Bike</td>\n",
       "      <td>8</td>\n",
       "      <td>45</td>\n",
       "      <td>120</td>\n",
       "      <td>590</td>\n",
       "      <td>360</td>\n",
       "      <td>950</td>\n",
       "    </tr>\n",
       "    <tr>\n",
       "      <th>2</th>\n",
       "      <td>2014-03-23</td>\n",
       "      <td>23</td>\n",
       "      <td>March</td>\n",
       "      <td>2014</td>\n",
       "      <td>49</td>\n",
       "      <td>Adults (35-64)</td>\n",
       "      <td>M</td>\n",
       "      <td>Australia</td>\n",
       "      <td>New South Wales</td>\n",
       "      <td>Accessories</td>\n",
       "      <td>Bike Racks</td>\n",
       "      <td>Hitch Rack - 4-Bike</td>\n",
       "      <td>23</td>\n",
       "      <td>45</td>\n",
       "      <td>120</td>\n",
       "      <td>1366</td>\n",
       "      <td>1035</td>\n",
       "      <td>2401</td>\n",
       "    </tr>\n",
       "    <tr>\n",
       "      <th>3</th>\n",
       "      <td>2016-03-23</td>\n",
       "      <td>23</td>\n",
       "      <td>March</td>\n",
       "      <td>2016</td>\n",
       "      <td>49</td>\n",
       "      <td>Adults (35-64)</td>\n",
       "      <td>M</td>\n",
       "      <td>Australia</td>\n",
       "      <td>New South Wales</td>\n",
       "      <td>Accessories</td>\n",
       "      <td>Bike Racks</td>\n",
       "      <td>Hitch Rack - 4-Bike</td>\n",
       "      <td>20</td>\n",
       "      <td>45</td>\n",
       "      <td>120</td>\n",
       "      <td>1188</td>\n",
       "      <td>900</td>\n",
       "      <td>2088</td>\n",
       "    </tr>\n",
       "    <tr>\n",
       "      <th>4</th>\n",
       "      <td>2014-05-15</td>\n",
       "      <td>15</td>\n",
       "      <td>May</td>\n",
       "      <td>2014</td>\n",
       "      <td>47</td>\n",
       "      <td>Adults (35-64)</td>\n",
       "      <td>F</td>\n",
       "      <td>Australia</td>\n",
       "      <td>New South Wales</td>\n",
       "      <td>Accessories</td>\n",
       "      <td>Bike Racks</td>\n",
       "      <td>Hitch Rack - 4-Bike</td>\n",
       "      <td>4</td>\n",
       "      <td>45</td>\n",
       "      <td>120</td>\n",
       "      <td>238</td>\n",
       "      <td>180</td>\n",
       "      <td>418</td>\n",
       "    </tr>\n",
       "  </tbody>\n",
       "</table>\n",
       "</div>"
      ],
      "text/plain": [
       "         Date  Day     Month  Year  Customer_Age       Age_Group  \\\n",
       "0  2013-11-26   26  November  2013            19     Youth (<25)   \n",
       "1  2015-11-26   26  November  2015            19     Youth (<25)   \n",
       "2  2014-03-23   23     March  2014            49  Adults (35-64)   \n",
       "3  2016-03-23   23     March  2016            49  Adults (35-64)   \n",
       "4  2014-05-15   15       May  2014            47  Adults (35-64)   \n",
       "\n",
       "  Customer_Gender    Country             State Product_Category Sub_Category  \\\n",
       "0               M     Canada  British Columbia      Accessories   Bike Racks   \n",
       "1               M     Canada  British Columbia      Accessories   Bike Racks   \n",
       "2               M  Australia   New South Wales      Accessories   Bike Racks   \n",
       "3               M  Australia   New South Wales      Accessories   Bike Racks   \n",
       "4               F  Australia   New South Wales      Accessories   Bike Racks   \n",
       "\n",
       "               Product  Order_Quantity  Unit_Cost  Unit_Price  Profit  Cost  \\\n",
       "0  Hitch Rack - 4-Bike               8         45         120     590   360   \n",
       "1  Hitch Rack - 4-Bike               8         45         120     590   360   \n",
       "2  Hitch Rack - 4-Bike              23         45         120    1366  1035   \n",
       "3  Hitch Rack - 4-Bike              20         45         120    1188   900   \n",
       "4  Hitch Rack - 4-Bike               4         45         120     238   180   \n",
       "\n",
       "   Revenue  \n",
       "0      950  \n",
       "1      950  \n",
       "2     2401  \n",
       "3     2088  \n",
       "4      418  "
      ]
     },
     "execution_count": 7,
     "metadata": {},
     "output_type": "execute_result"
    }
   ],
   "source": [
    "sales.head()"
   ]
  },
  {
   "cell_type": "markdown",
   "id": "c162e044",
   "metadata": {},
   "source": [
    "## Data Cleaning"
   ]
  },
  {
   "cell_type": "code",
   "execution_count": 8,
   "id": "8982ac6d",
   "metadata": {},
   "outputs": [
    {
     "data": {
      "text/html": [
       "<div>\n",
       "<style scoped>\n",
       "    .dataframe tbody tr th:only-of-type {\n",
       "        vertical-align: middle;\n",
       "    }\n",
       "\n",
       "    .dataframe tbody tr th {\n",
       "        vertical-align: top;\n",
       "    }\n",
       "\n",
       "    .dataframe thead th {\n",
       "        text-align: right;\n",
       "    }\n",
       "</style>\n",
       "<table border=\"1\" class=\"dataframe\">\n",
       "  <thead>\n",
       "    <tr style=\"text-align: right;\">\n",
       "      <th></th>\n",
       "      <th>Date</th>\n",
       "      <th>Day</th>\n",
       "      <th>Month</th>\n",
       "      <th>Year</th>\n",
       "      <th>Customer_Age</th>\n",
       "      <th>Age_Group</th>\n",
       "      <th>Customer_Gender</th>\n",
       "      <th>Country</th>\n",
       "      <th>State</th>\n",
       "      <th>Product_Category</th>\n",
       "      <th>Sub_Category</th>\n",
       "      <th>Product</th>\n",
       "      <th>Order_Quantity</th>\n",
       "      <th>Unit_Cost</th>\n",
       "      <th>Unit_Price</th>\n",
       "      <th>Profit</th>\n",
       "      <th>Cost</th>\n",
       "      <th>Revenue</th>\n",
       "    </tr>\n",
       "  </thead>\n",
       "  <tbody>\n",
       "    <tr>\n",
       "      <th>1021</th>\n",
       "      <td>2013-12-19</td>\n",
       "      <td>19</td>\n",
       "      <td>December</td>\n",
       "      <td>2013</td>\n",
       "      <td>22</td>\n",
       "      <td>Youth (&lt;25)</td>\n",
       "      <td>M</td>\n",
       "      <td>Australia</td>\n",
       "      <td>New South Wales</td>\n",
       "      <td>Accessories</td>\n",
       "      <td>Bike Stands</td>\n",
       "      <td>All-Purpose Bike Stand</td>\n",
       "      <td>9</td>\n",
       "      <td>59</td>\n",
       "      <td>159</td>\n",
       "      <td>714</td>\n",
       "      <td>531</td>\n",
       "      <td>1245</td>\n",
       "    </tr>\n",
       "    <tr>\n",
       "      <th>1091</th>\n",
       "      <td>2015-09-30</td>\n",
       "      <td>30</td>\n",
       "      <td>September</td>\n",
       "      <td>2015</td>\n",
       "      <td>42</td>\n",
       "      <td>Adults (35-64)</td>\n",
       "      <td>F</td>\n",
       "      <td>Australia</td>\n",
       "      <td>Victoria</td>\n",
       "      <td>Accessories</td>\n",
       "      <td>Bottles and Cages</td>\n",
       "      <td>Mountain Bottle Cage</td>\n",
       "      <td>5</td>\n",
       "      <td>4</td>\n",
       "      <td>10</td>\n",
       "      <td>20</td>\n",
       "      <td>20</td>\n",
       "      <td>40</td>\n",
       "    </tr>\n",
       "    <tr>\n",
       "      <th>1093</th>\n",
       "      <td>2013-10-24</td>\n",
       "      <td>24</td>\n",
       "      <td>October</td>\n",
       "      <td>2013</td>\n",
       "      <td>42</td>\n",
       "      <td>Adults (35-64)</td>\n",
       "      <td>F</td>\n",
       "      <td>Australia</td>\n",
       "      <td>Victoria</td>\n",
       "      <td>Accessories</td>\n",
       "      <td>Bottles and Cages</td>\n",
       "      <td>Mountain Bottle Cage</td>\n",
       "      <td>2</td>\n",
       "      <td>4</td>\n",
       "      <td>10</td>\n",
       "      <td>8</td>\n",
       "      <td>8</td>\n",
       "      <td>16</td>\n",
       "    </tr>\n",
       "    <tr>\n",
       "      <th>1095</th>\n",
       "      <td>2015-10-24</td>\n",
       "      <td>24</td>\n",
       "      <td>October</td>\n",
       "      <td>2015</td>\n",
       "      <td>42</td>\n",
       "      <td>Adults (35-64)</td>\n",
       "      <td>F</td>\n",
       "      <td>Australia</td>\n",
       "      <td>Victoria</td>\n",
       "      <td>Accessories</td>\n",
       "      <td>Bottles and Cages</td>\n",
       "      <td>Mountain Bottle Cage</td>\n",
       "      <td>1</td>\n",
       "      <td>4</td>\n",
       "      <td>10</td>\n",
       "      <td>4</td>\n",
       "      <td>4</td>\n",
       "      <td>8</td>\n",
       "    </tr>\n",
       "    <tr>\n",
       "      <th>1193</th>\n",
       "      <td>2016-01-15</td>\n",
       "      <td>15</td>\n",
       "      <td>January</td>\n",
       "      <td>2016</td>\n",
       "      <td>42</td>\n",
       "      <td>Adults (35-64)</td>\n",
       "      <td>M</td>\n",
       "      <td>France</td>\n",
       "      <td>Seine Saint Denis</td>\n",
       "      <td>Accessories</td>\n",
       "      <td>Bottles and Cages</td>\n",
       "      <td>Water Bottle - 30 oz.</td>\n",
       "      <td>14</td>\n",
       "      <td>2</td>\n",
       "      <td>5</td>\n",
       "      <td>29</td>\n",
       "      <td>28</td>\n",
       "      <td>57</td>\n",
       "    </tr>\n",
       "    <tr>\n",
       "      <th>...</th>\n",
       "      <td>...</td>\n",
       "      <td>...</td>\n",
       "      <td>...</td>\n",
       "      <td>...</td>\n",
       "      <td>...</td>\n",
       "      <td>...</td>\n",
       "      <td>...</td>\n",
       "      <td>...</td>\n",
       "      <td>...</td>\n",
       "      <td>...</td>\n",
       "      <td>...</td>\n",
       "      <td>...</td>\n",
       "      <td>...</td>\n",
       "      <td>...</td>\n",
       "      <td>...</td>\n",
       "      <td>...</td>\n",
       "      <td>...</td>\n",
       "      <td>...</td>\n",
       "    </tr>\n",
       "    <tr>\n",
       "      <th>111029</th>\n",
       "      <td>2014-02-18</td>\n",
       "      <td>18</td>\n",
       "      <td>February</td>\n",
       "      <td>2014</td>\n",
       "      <td>49</td>\n",
       "      <td>Adults (35-64)</td>\n",
       "      <td>F</td>\n",
       "      <td>United States</td>\n",
       "      <td>California</td>\n",
       "      <td>Bikes</td>\n",
       "      <td>Touring Bikes</td>\n",
       "      <td>Touring-1000 Blue, 60</td>\n",
       "      <td>1</td>\n",
       "      <td>1482</td>\n",
       "      <td>2384</td>\n",
       "      <td>854</td>\n",
       "      <td>1482</td>\n",
       "      <td>2336</td>\n",
       "    </tr>\n",
       "    <tr>\n",
       "      <th>111031</th>\n",
       "      <td>2016-02-18</td>\n",
       "      <td>18</td>\n",
       "      <td>February</td>\n",
       "      <td>2016</td>\n",
       "      <td>49</td>\n",
       "      <td>Adults (35-64)</td>\n",
       "      <td>F</td>\n",
       "      <td>United States</td>\n",
       "      <td>California</td>\n",
       "      <td>Bikes</td>\n",
       "      <td>Touring Bikes</td>\n",
       "      <td>Touring-1000 Blue, 60</td>\n",
       "      <td>1</td>\n",
       "      <td>1482</td>\n",
       "      <td>2384</td>\n",
       "      <td>854</td>\n",
       "      <td>1482</td>\n",
       "      <td>2336</td>\n",
       "    </tr>\n",
       "    <tr>\n",
       "      <th>111265</th>\n",
       "      <td>2014-04-27</td>\n",
       "      <td>27</td>\n",
       "      <td>April</td>\n",
       "      <td>2014</td>\n",
       "      <td>31</td>\n",
       "      <td>Young Adults (25-34)</td>\n",
       "      <td>M</td>\n",
       "      <td>United States</td>\n",
       "      <td>Washington</td>\n",
       "      <td>Bikes</td>\n",
       "      <td>Touring Bikes</td>\n",
       "      <td>Touring-1000 Blue, 50</td>\n",
       "      <td>1</td>\n",
       "      <td>1482</td>\n",
       "      <td>2384</td>\n",
       "      <td>378</td>\n",
       "      <td>1482</td>\n",
       "      <td>1860</td>\n",
       "    </tr>\n",
       "    <tr>\n",
       "      <th>111953</th>\n",
       "      <td>2013-09-20</td>\n",
       "      <td>20</td>\n",
       "      <td>September</td>\n",
       "      <td>2013</td>\n",
       "      <td>42</td>\n",
       "      <td>Adults (35-64)</td>\n",
       "      <td>M</td>\n",
       "      <td>Canada</td>\n",
       "      <td>British Columbia</td>\n",
       "      <td>Bikes</td>\n",
       "      <td>Touring Bikes</td>\n",
       "      <td>Touring-3000 Yellow, 44</td>\n",
       "      <td>1</td>\n",
       "      <td>461</td>\n",
       "      <td>742</td>\n",
       "      <td>274</td>\n",
       "      <td>461</td>\n",
       "      <td>735</td>\n",
       "    </tr>\n",
       "    <tr>\n",
       "      <th>111955</th>\n",
       "      <td>2015-09-20</td>\n",
       "      <td>20</td>\n",
       "      <td>September</td>\n",
       "      <td>2015</td>\n",
       "      <td>42</td>\n",
       "      <td>Adults (35-64)</td>\n",
       "      <td>M</td>\n",
       "      <td>Canada</td>\n",
       "      <td>British Columbia</td>\n",
       "      <td>Bikes</td>\n",
       "      <td>Touring Bikes</td>\n",
       "      <td>Touring-3000 Yellow, 44</td>\n",
       "      <td>1</td>\n",
       "      <td>461</td>\n",
       "      <td>742</td>\n",
       "      <td>274</td>\n",
       "      <td>461</td>\n",
       "      <td>735</td>\n",
       "    </tr>\n",
       "  </tbody>\n",
       "</table>\n",
       "<p>1000 rows × 18 columns</p>\n",
       "</div>"
      ],
      "text/plain": [
       "              Date  Day      Month  Year  Customer_Age             Age_Group  \\\n",
       "1021    2013-12-19   19   December  2013            22           Youth (<25)   \n",
       "1091    2015-09-30   30  September  2015            42        Adults (35-64)   \n",
       "1093    2013-10-24   24    October  2013            42        Adults (35-64)   \n",
       "1095    2015-10-24   24    October  2015            42        Adults (35-64)   \n",
       "1193    2016-01-15   15    January  2016            42        Adults (35-64)   \n",
       "...            ...  ...        ...   ...           ...                   ...   \n",
       "111029  2014-02-18   18   February  2014            49        Adults (35-64)   \n",
       "111031  2016-02-18   18   February  2016            49        Adults (35-64)   \n",
       "111265  2014-04-27   27      April  2014            31  Young Adults (25-34)   \n",
       "111953  2013-09-20   20  September  2013            42        Adults (35-64)   \n",
       "111955  2015-09-20   20  September  2015            42        Adults (35-64)   \n",
       "\n",
       "       Customer_Gender        Country              State Product_Category  \\\n",
       "1021                 M      Australia    New South Wales      Accessories   \n",
       "1091                 F      Australia           Victoria      Accessories   \n",
       "1093                 F      Australia           Victoria      Accessories   \n",
       "1095                 F      Australia           Victoria      Accessories   \n",
       "1193                 M         France  Seine Saint Denis      Accessories   \n",
       "...                ...            ...                ...              ...   \n",
       "111029               F  United States         California            Bikes   \n",
       "111031               F  United States         California            Bikes   \n",
       "111265               M  United States         Washington            Bikes   \n",
       "111953               M         Canada   British Columbia            Bikes   \n",
       "111955               M         Canada   British Columbia            Bikes   \n",
       "\n",
       "             Sub_Category                  Product  Order_Quantity  Unit_Cost  \\\n",
       "1021          Bike Stands   All-Purpose Bike Stand               9         59   \n",
       "1091    Bottles and Cages     Mountain Bottle Cage               5          4   \n",
       "1093    Bottles and Cages     Mountain Bottle Cage               2          4   \n",
       "1095    Bottles and Cages     Mountain Bottle Cage               1          4   \n",
       "1193    Bottles and Cages    Water Bottle - 30 oz.              14          2   \n",
       "...                   ...                      ...             ...        ...   \n",
       "111029      Touring Bikes    Touring-1000 Blue, 60               1       1482   \n",
       "111031      Touring Bikes    Touring-1000 Blue, 60               1       1482   \n",
       "111265      Touring Bikes    Touring-1000 Blue, 50               1       1482   \n",
       "111953      Touring Bikes  Touring-3000 Yellow, 44               1        461   \n",
       "111955      Touring Bikes  Touring-3000 Yellow, 44               1        461   \n",
       "\n",
       "        Unit_Price  Profit  Cost  Revenue  \n",
       "1021           159     714   531     1245  \n",
       "1091            10      20    20       40  \n",
       "1093            10       8     8       16  \n",
       "1095            10       4     4        8  \n",
       "1193             5      29    28       57  \n",
       "...            ...     ...   ...      ...  \n",
       "111029        2384     854  1482     2336  \n",
       "111031        2384     854  1482     2336  \n",
       "111265        2384     378  1482     1860  \n",
       "111953         742     274   461      735  \n",
       "111955         742     274   461      735  \n",
       "\n",
       "[1000 rows x 18 columns]"
      ]
     },
     "execution_count": 8,
     "metadata": {},
     "output_type": "execute_result"
    }
   ],
   "source": [
    "sales[sales.duplicated()]"
   ]
  },
  {
   "cell_type": "code",
   "execution_count": 9,
   "id": "56f611f1",
   "metadata": {},
   "outputs": [
    {
     "data": {
      "text/plain": [
       "(113036, 18)"
      ]
     },
     "execution_count": 9,
     "metadata": {},
     "output_type": "execute_result"
    }
   ],
   "source": [
    "sales.shape"
   ]
  },
  {
   "cell_type": "code",
   "execution_count": 3,
   "id": "c5d12d23",
   "metadata": {},
   "outputs": [
    {
     "data": {
      "text/plain": [
       "(112036, 18)"
      ]
     },
     "execution_count": 3,
     "metadata": {},
     "output_type": "execute_result"
    }
   ],
   "source": [
    "sales = sales.drop_duplicates()\n",
    "sales.shape"
   ]
  },
  {
   "cell_type": "code",
   "execution_count": 4,
   "id": "8494dd67",
   "metadata": {},
   "outputs": [
    {
     "data": {
      "text/plain": [
       "Date                0\n",
       "Day                 0\n",
       "Month               0\n",
       "Year                0\n",
       "Customer_Age        0\n",
       "Age_Group           0\n",
       "Customer_Gender     0\n",
       "Country             0\n",
       "State               0\n",
       "Product_Category    0\n",
       "Sub_Category        0\n",
       "Product             0\n",
       "Order_Quantity      0\n",
       "Unit_Cost           0\n",
       "Unit_Price          0\n",
       "Profit              0\n",
       "Cost                0\n",
       "Revenue             0\n",
       "dtype: int64"
      ]
     },
     "execution_count": 4,
     "metadata": {},
     "output_type": "execute_result"
    }
   ],
   "source": [
    "sales.isna().sum()"
   ]
  },
  {
   "cell_type": "code",
   "execution_count": 12,
   "id": "95623dd9",
   "metadata": {},
   "outputs": [
    {
     "data": {
      "text/plain": [
       "array(['Youth (<25)', 'Adults (35-64)', 'Young Adults (25-34)',\n",
       "       'Seniors (64+)'], dtype=object)"
      ]
     },
     "execution_count": 12,
     "metadata": {},
     "output_type": "execute_result"
    }
   ],
   "source": [
    "sales['Age_Group'].unique()"
   ]
  },
  {
   "cell_type": "code",
   "execution_count": 5,
   "id": "7dc4e220",
   "metadata": {},
   "outputs": [
    {
     "data": {
      "text/plain": [
       "'Young Adults'"
      ]
     },
     "execution_count": 5,
     "metadata": {},
     "output_type": "execute_result"
    }
   ],
   "source": [
    "def clean_age_group(item):\n",
    "    return item.split('(')[0].strip()\n",
    "clean_age_group('Young Adults (25-34)')"
   ]
  },
  {
   "cell_type": "code",
   "execution_count": 6,
   "id": "64f823be",
   "metadata": {},
   "outputs": [],
   "source": [
    "sales['Age_Category'] = sales['Age_Group'].apply(clean_age_group)"
   ]
  },
  {
   "cell_type": "code",
   "execution_count": 15,
   "id": "95fb66dc",
   "metadata": {},
   "outputs": [
    {
     "data": {
      "text/plain": [
       "array(['Youth', 'Adults', 'Young Adults', 'Seniors'], dtype=object)"
      ]
     },
     "execution_count": 15,
     "metadata": {},
     "output_type": "execute_result"
    }
   ],
   "source": [
    "sales.Age_Category.unique()"
   ]
  },
  {
   "cell_type": "code",
   "execution_count": 16,
   "id": "41cd2478",
   "metadata": {},
   "outputs": [
    {
     "data": {
      "text/plain": [
       "Index(['Date', 'Day', 'Month', 'Year', 'Customer_Age', 'Age_Group',\n",
       "       'Customer_Gender', 'Country', 'State', 'Product_Category',\n",
       "       'Sub_Category', 'Product', 'Order_Quantity', 'Unit_Cost', 'Unit_Price',\n",
       "       'Profit', 'Cost', 'Revenue', 'Age_Category'],\n",
       "      dtype='object')"
      ]
     },
     "execution_count": 16,
     "metadata": {},
     "output_type": "execute_result"
    }
   ],
   "source": [
    "sales.columns"
   ]
  },
  {
   "cell_type": "code",
   "execution_count": 17,
   "id": "5b5bd9c0",
   "metadata": {},
   "outputs": [
    {
     "data": {
      "text/plain": [
       "array(['M', 'F'], dtype=object)"
      ]
     },
     "execution_count": 17,
     "metadata": {},
     "output_type": "execute_result"
    }
   ],
   "source": [
    "sales['Customer_Gender'].unique()"
   ]
  },
  {
   "cell_type": "code",
   "execution_count": 18,
   "id": "7a35a28c",
   "metadata": {},
   "outputs": [
    {
     "data": {
      "text/plain": [
       "array(['Canada', 'Australia', 'United States', 'Germany', 'France',\n",
       "       'United Kingdom'], dtype=object)"
      ]
     },
     "execution_count": 18,
     "metadata": {},
     "output_type": "execute_result"
    }
   ],
   "source": [
    "sales['Country'].unique()"
   ]
  },
  {
   "cell_type": "code",
   "execution_count": 19,
   "id": "695ee33c",
   "metadata": {},
   "outputs": [
    {
     "data": {
      "text/plain": [
       "array(['British Columbia', 'New South Wales', 'Victoria', 'Oregon',\n",
       "       'California', 'Saarland', 'Seine Saint Denis', 'Moselle',\n",
       "       'Queensland', 'England', 'Nord', 'Washington', 'Hessen',\n",
       "       'Nordrhein-Westfalen', 'Hamburg', 'Loir et Cher', 'Kentucky',\n",
       "       'Seine (Paris)', 'South Australia', 'Loiret', 'Alberta', 'Bayern',\n",
       "       'Hauts de Seine', 'Yveline', 'Essonne', \"Val d'Oise\", 'Tasmania',\n",
       "       'Seine et Marne', 'Val de Marne', 'Pas de Calais',\n",
       "       'Charente-Maritime', 'Garonne (Haute)', 'Brandenburg', 'Texas',\n",
       "       'New York', 'Florida', 'Somme', 'Illinois', 'South Carolina',\n",
       "       'North Carolina', 'Georgia', 'Virginia', 'Ohio', 'Ontario',\n",
       "       'Wyoming', 'Missouri', 'Montana', 'Utah', 'Minnesota',\n",
       "       'Mississippi', 'Massachusetts', 'Arizona', 'Alabama'], dtype=object)"
      ]
     },
     "execution_count": 19,
     "metadata": {},
     "output_type": "execute_result"
    }
   ],
   "source": [
    "sales['State'].unique()"
   ]
  },
  {
   "cell_type": "code",
   "execution_count": 20,
   "id": "3294701b",
   "metadata": {},
   "outputs": [
    {
     "data": {
      "text/plain": [
       "array(['Accessories', 'Clothing', 'Bikes'], dtype=object)"
      ]
     },
     "execution_count": 20,
     "metadata": {},
     "output_type": "execute_result"
    }
   ],
   "source": [
    "sales['Product_Category'].unique()"
   ]
  },
  {
   "cell_type": "code",
   "execution_count": 21,
   "id": "527150bb",
   "metadata": {},
   "outputs": [
    {
     "data": {
      "text/plain": [
       "array(['Bike Racks', 'Bike Stands', 'Bottles and Cages', 'Caps',\n",
       "       'Cleaners', 'Fenders', 'Gloves', 'Helmets', 'Hydration Packs',\n",
       "       'Jerseys', 'Mountain Bikes', 'Road Bikes', 'Shorts', 'Socks',\n",
       "       'Tires and Tubes', 'Touring Bikes', 'Vests'], dtype=object)"
      ]
     },
     "execution_count": 21,
     "metadata": {},
     "output_type": "execute_result"
    }
   ],
   "source": [
    "sales['Sub_Category'].unique()"
   ]
  },
  {
   "cell_type": "code",
   "execution_count": 22,
   "id": "57d1954f",
   "metadata": {
    "scrolled": true
   },
   "outputs": [
    {
     "data": {
      "text/plain": [
       "array(['Hitch Rack - 4-Bike', 'All-Purpose Bike Stand',\n",
       "       'Mountain Bottle Cage', 'Water Bottle - 30 oz.',\n",
       "       'Road Bottle Cage', 'AWC Logo Cap', 'Bike Wash - Dissolver',\n",
       "       'Fender Set - Mountain', 'Half-Finger Gloves, L',\n",
       "       'Half-Finger Gloves, M', 'Half-Finger Gloves, S',\n",
       "       'Sport-100 Helmet, Black', 'Sport-100 Helmet, Red',\n",
       "       'Sport-100 Helmet, Blue', 'Hydration Pack - 70 oz.',\n",
       "       'Short-Sleeve Classic Jersey, XL',\n",
       "       'Short-Sleeve Classic Jersey, L', 'Short-Sleeve Classic Jersey, M',\n",
       "       'Short-Sleeve Classic Jersey, S', 'Long-Sleeve Logo Jersey, M',\n",
       "       'Long-Sleeve Logo Jersey, XL', 'Long-Sleeve Logo Jersey, L',\n",
       "       'Long-Sleeve Logo Jersey, S', 'Mountain-100 Silver, 38',\n",
       "       'Mountain-100 Silver, 44', 'Mountain-100 Black, 48',\n",
       "       'Mountain-100 Silver, 48', 'Mountain-100 Black, 38',\n",
       "       'Mountain-200 Silver, 38', 'Mountain-100 Black, 44',\n",
       "       'Mountain-100 Silver, 42', 'Mountain-200 Black, 46',\n",
       "       'Mountain-200 Silver, 42', 'Mountain-200 Silver, 46',\n",
       "       'Mountain-200 Black, 38', 'Mountain-100 Black, 42',\n",
       "       'Mountain-200 Black, 42', 'Mountain-400-W Silver, 46',\n",
       "       'Mountain-500 Silver, 40', 'Mountain-500 Silver, 44',\n",
       "       'Mountain-500 Black, 48', 'Mountain-500 Black, 40',\n",
       "       'Mountain-400-W Silver, 42', 'Mountain-500 Silver, 52',\n",
       "       'Mountain-500 Black, 52', 'Mountain-500 Silver, 42',\n",
       "       'Mountain-500 Black, 44', 'Mountain-500 Silver, 48',\n",
       "       'Mountain-400-W Silver, 38', 'Mountain-400-W Silver, 40',\n",
       "       'Mountain-500 Black, 42', 'Road-150 Red, 48', 'Road-150 Red, 62',\n",
       "       'Road-750 Black, 48', 'Road-750 Black, 58', 'Road-750 Black, 52',\n",
       "       'Road-150 Red, 52', 'Road-150 Red, 44', 'Road-150 Red, 56',\n",
       "       'Road-750 Black, 44', 'Road-350-W Yellow, 40',\n",
       "       'Road-350-W Yellow, 42', 'Road-250 Black, 44',\n",
       "       'Road-250 Black, 48', 'Road-350-W Yellow, 48',\n",
       "       'Road-550-W Yellow, 44', 'Road-550-W Yellow, 38',\n",
       "       'Road-250 Black, 52', 'Road-550-W Yellow, 48', 'Road-250 Red, 58',\n",
       "       'Road-250 Black, 58', 'Road-250 Red, 52', 'Road-250 Red, 48',\n",
       "       'Road-250 Red, 44', 'Road-550-W Yellow, 42',\n",
       "       'Road-550-W Yellow, 40', 'Road-650 Red, 48', 'Road-650 Red, 60',\n",
       "       'Road-650 Black, 48', 'Road-350-W Yellow, 44', 'Road-650 Red, 52',\n",
       "       'Road-650 Black, 44', 'Road-650 Red, 62', 'Road-650 Red, 58',\n",
       "       'Road-650 Black, 60', 'Road-650 Black, 58', 'Road-650 Black, 52',\n",
       "       'Road-650 Black, 62', 'Road-650 Red, 44',\n",
       "       \"Women's Mountain Shorts, M\", \"Women's Mountain Shorts, S\",\n",
       "       \"Women's Mountain Shorts, L\", 'Racing Socks, L', 'Racing Socks, M',\n",
       "       'Mountain Tire Tube', 'Touring Tire Tube', 'Patch Kit/8 Patches',\n",
       "       'HL Mountain Tire', 'LL Mountain Tire', 'Road Tire Tube',\n",
       "       'LL Road Tire', 'Touring Tire', 'ML Mountain Tire', 'HL Road Tire',\n",
       "       'ML Road Tire', 'Touring-1000 Yellow, 50', 'Touring-1000 Blue, 46',\n",
       "       'Touring-1000 Yellow, 60', 'Touring-1000 Blue, 50',\n",
       "       'Touring-3000 Yellow, 50', 'Touring-3000 Blue, 54',\n",
       "       'Touring-3000 Blue, 58', 'Touring-3000 Yellow, 44',\n",
       "       'Touring-3000 Yellow, 54', 'Touring-3000 Blue, 62',\n",
       "       'Touring-3000 Blue, 44', 'Touring-1000 Blue, 54',\n",
       "       'Touring-1000 Yellow, 46', 'Touring-1000 Blue, 60',\n",
       "       'Touring-3000 Yellow, 62', 'Touring-1000 Yellow, 54',\n",
       "       'Touring-2000 Blue, 54', 'Touring-3000 Blue, 50',\n",
       "       'Touring-3000 Yellow, 58', 'Touring-2000 Blue, 46',\n",
       "       'Touring-2000 Blue, 50', 'Touring-2000 Blue, 60',\n",
       "       'Classic Vest, L', 'Classic Vest, M', 'Classic Vest, S'],\n",
       "      dtype=object)"
      ]
     },
     "execution_count": 22,
     "metadata": {},
     "output_type": "execute_result"
    }
   ],
   "source": [
    "sales['Product'].unique()"
   ]
  },
  {
   "cell_type": "code",
   "execution_count": 23,
   "id": "555b466b",
   "metadata": {},
   "outputs": [
    {
     "data": {
      "text/html": [
       "<div>\n",
       "<style scoped>\n",
       "    .dataframe tbody tr th:only-of-type {\n",
       "        vertical-align: middle;\n",
       "    }\n",
       "\n",
       "    .dataframe tbody tr th {\n",
       "        vertical-align: top;\n",
       "    }\n",
       "\n",
       "    .dataframe thead th {\n",
       "        text-align: right;\n",
       "    }\n",
       "</style>\n",
       "<table border=\"1\" class=\"dataframe\">\n",
       "  <thead>\n",
       "    <tr style=\"text-align: right;\">\n",
       "      <th></th>\n",
       "      <th>Date</th>\n",
       "      <th>Day</th>\n",
       "      <th>Month</th>\n",
       "      <th>Year</th>\n",
       "      <th>Customer_Age</th>\n",
       "      <th>Age_Group</th>\n",
       "      <th>Customer_Gender</th>\n",
       "      <th>Country</th>\n",
       "      <th>State</th>\n",
       "      <th>Product_Category</th>\n",
       "      <th>Sub_Category</th>\n",
       "      <th>Product</th>\n",
       "      <th>Order_Quantity</th>\n",
       "      <th>Unit_Cost</th>\n",
       "      <th>Unit_Price</th>\n",
       "      <th>Profit</th>\n",
       "      <th>Cost</th>\n",
       "      <th>Revenue</th>\n",
       "      <th>Age_Category</th>\n",
       "    </tr>\n",
       "  </thead>\n",
       "  <tbody>\n",
       "    <tr>\n",
       "      <th>0</th>\n",
       "      <td>2013-11-26</td>\n",
       "      <td>26</td>\n",
       "      <td>November</td>\n",
       "      <td>2013</td>\n",
       "      <td>19</td>\n",
       "      <td>Youth (&lt;25)</td>\n",
       "      <td>M</td>\n",
       "      <td>Canada</td>\n",
       "      <td>British Columbia</td>\n",
       "      <td>Accessories</td>\n",
       "      <td>Bike Racks</td>\n",
       "      <td>Hitch Rack - 4-Bike</td>\n",
       "      <td>8</td>\n",
       "      <td>45</td>\n",
       "      <td>120</td>\n",
       "      <td>590</td>\n",
       "      <td>360</td>\n",
       "      <td>950</td>\n",
       "      <td>Youth</td>\n",
       "    </tr>\n",
       "    <tr>\n",
       "      <th>1</th>\n",
       "      <td>2015-11-26</td>\n",
       "      <td>26</td>\n",
       "      <td>November</td>\n",
       "      <td>2015</td>\n",
       "      <td>19</td>\n",
       "      <td>Youth (&lt;25)</td>\n",
       "      <td>M</td>\n",
       "      <td>Canada</td>\n",
       "      <td>British Columbia</td>\n",
       "      <td>Accessories</td>\n",
       "      <td>Bike Racks</td>\n",
       "      <td>Hitch Rack - 4-Bike</td>\n",
       "      <td>8</td>\n",
       "      <td>45</td>\n",
       "      <td>120</td>\n",
       "      <td>590</td>\n",
       "      <td>360</td>\n",
       "      <td>950</td>\n",
       "      <td>Youth</td>\n",
       "    </tr>\n",
       "    <tr>\n",
       "      <th>2</th>\n",
       "      <td>2014-03-23</td>\n",
       "      <td>23</td>\n",
       "      <td>March</td>\n",
       "      <td>2014</td>\n",
       "      <td>49</td>\n",
       "      <td>Adults (35-64)</td>\n",
       "      <td>M</td>\n",
       "      <td>Australia</td>\n",
       "      <td>New South Wales</td>\n",
       "      <td>Accessories</td>\n",
       "      <td>Bike Racks</td>\n",
       "      <td>Hitch Rack - 4-Bike</td>\n",
       "      <td>23</td>\n",
       "      <td>45</td>\n",
       "      <td>120</td>\n",
       "      <td>1366</td>\n",
       "      <td>1035</td>\n",
       "      <td>2401</td>\n",
       "      <td>Adults</td>\n",
       "    </tr>\n",
       "    <tr>\n",
       "      <th>3</th>\n",
       "      <td>2016-03-23</td>\n",
       "      <td>23</td>\n",
       "      <td>March</td>\n",
       "      <td>2016</td>\n",
       "      <td>49</td>\n",
       "      <td>Adults (35-64)</td>\n",
       "      <td>M</td>\n",
       "      <td>Australia</td>\n",
       "      <td>New South Wales</td>\n",
       "      <td>Accessories</td>\n",
       "      <td>Bike Racks</td>\n",
       "      <td>Hitch Rack - 4-Bike</td>\n",
       "      <td>20</td>\n",
       "      <td>45</td>\n",
       "      <td>120</td>\n",
       "      <td>1188</td>\n",
       "      <td>900</td>\n",
       "      <td>2088</td>\n",
       "      <td>Adults</td>\n",
       "    </tr>\n",
       "    <tr>\n",
       "      <th>4</th>\n",
       "      <td>2014-05-15</td>\n",
       "      <td>15</td>\n",
       "      <td>May</td>\n",
       "      <td>2014</td>\n",
       "      <td>47</td>\n",
       "      <td>Adults (35-64)</td>\n",
       "      <td>F</td>\n",
       "      <td>Australia</td>\n",
       "      <td>New South Wales</td>\n",
       "      <td>Accessories</td>\n",
       "      <td>Bike Racks</td>\n",
       "      <td>Hitch Rack - 4-Bike</td>\n",
       "      <td>4</td>\n",
       "      <td>45</td>\n",
       "      <td>120</td>\n",
       "      <td>238</td>\n",
       "      <td>180</td>\n",
       "      <td>418</td>\n",
       "      <td>Adults</td>\n",
       "    </tr>\n",
       "  </tbody>\n",
       "</table>\n",
       "</div>"
      ],
      "text/plain": [
       "         Date  Day     Month  Year  Customer_Age       Age_Group  \\\n",
       "0  2013-11-26   26  November  2013            19     Youth (<25)   \n",
       "1  2015-11-26   26  November  2015            19     Youth (<25)   \n",
       "2  2014-03-23   23     March  2014            49  Adults (35-64)   \n",
       "3  2016-03-23   23     March  2016            49  Adults (35-64)   \n",
       "4  2014-05-15   15       May  2014            47  Adults (35-64)   \n",
       "\n",
       "  Customer_Gender    Country             State Product_Category Sub_Category  \\\n",
       "0               M     Canada  British Columbia      Accessories   Bike Racks   \n",
       "1               M     Canada  British Columbia      Accessories   Bike Racks   \n",
       "2               M  Australia   New South Wales      Accessories   Bike Racks   \n",
       "3               M  Australia   New South Wales      Accessories   Bike Racks   \n",
       "4               F  Australia   New South Wales      Accessories   Bike Racks   \n",
       "\n",
       "               Product  Order_Quantity  Unit_Cost  Unit_Price  Profit  Cost  \\\n",
       "0  Hitch Rack - 4-Bike               8         45         120     590   360   \n",
       "1  Hitch Rack - 4-Bike               8         45         120     590   360   \n",
       "2  Hitch Rack - 4-Bike              23         45         120    1366  1035   \n",
       "3  Hitch Rack - 4-Bike              20         45         120    1188   900   \n",
       "4  Hitch Rack - 4-Bike               4         45         120     238   180   \n",
       "\n",
       "   Revenue Age_Category  \n",
       "0      950        Youth  \n",
       "1      950        Youth  \n",
       "2     2401       Adults  \n",
       "3     2088       Adults  \n",
       "4      418       Adults  "
      ]
     },
     "execution_count": 23,
     "metadata": {},
     "output_type": "execute_result"
    }
   ],
   "source": [
    "sales.head()"
   ]
  },
  {
   "cell_type": "code",
   "execution_count": 7,
   "id": "69c19935",
   "metadata": {},
   "outputs": [
    {
     "data": {
      "text/html": [
       "<div>\n",
       "<style scoped>\n",
       "    .dataframe tbody tr th:only-of-type {\n",
       "        vertical-align: middle;\n",
       "    }\n",
       "\n",
       "    .dataframe tbody tr th {\n",
       "        vertical-align: top;\n",
       "    }\n",
       "\n",
       "    .dataframe thead th {\n",
       "        text-align: right;\n",
       "    }\n",
       "</style>\n",
       "<table border=\"1\" class=\"dataframe\">\n",
       "  <thead>\n",
       "    <tr style=\"text-align: right;\">\n",
       "      <th></th>\n",
       "      <th>Date</th>\n",
       "      <th>Day</th>\n",
       "      <th>Month</th>\n",
       "      <th>Year</th>\n",
       "      <th>Customer_Age</th>\n",
       "      <th>Customer_Gender</th>\n",
       "      <th>Country</th>\n",
       "      <th>State</th>\n",
       "      <th>Product_Category</th>\n",
       "      <th>Sub_Category</th>\n",
       "      <th>Product</th>\n",
       "      <th>Order_Quantity</th>\n",
       "      <th>Unit_Cost</th>\n",
       "      <th>Unit_Price</th>\n",
       "      <th>Profit</th>\n",
       "      <th>Cost</th>\n",
       "      <th>Revenue</th>\n",
       "      <th>Age_Category</th>\n",
       "    </tr>\n",
       "  </thead>\n",
       "  <tbody>\n",
       "    <tr>\n",
       "      <th>81199</th>\n",
       "      <td>2015-11-19</td>\n",
       "      <td>19</td>\n",
       "      <td>November</td>\n",
       "      <td>2015</td>\n",
       "      <td>28</td>\n",
       "      <td>F</td>\n",
       "      <td>Australia</td>\n",
       "      <td>New South Wales</td>\n",
       "      <td>Accessories</td>\n",
       "      <td>Tires and Tubes</td>\n",
       "      <td>Patch Kit/8 Patches</td>\n",
       "      <td>8</td>\n",
       "      <td>1</td>\n",
       "      <td>2</td>\n",
       "      <td>6</td>\n",
       "      <td>8</td>\n",
       "      <td>14</td>\n",
       "      <td>Young Adults</td>\n",
       "    </tr>\n",
       "    <tr>\n",
       "      <th>50977</th>\n",
       "      <td>2015-10-04</td>\n",
       "      <td>4</td>\n",
       "      <td>October</td>\n",
       "      <td>2015</td>\n",
       "      <td>33</td>\n",
       "      <td>M</td>\n",
       "      <td>Germany</td>\n",
       "      <td>Hessen</td>\n",
       "      <td>Bikes</td>\n",
       "      <td>Mountain Bikes</td>\n",
       "      <td>Mountain-200 Black, 42</td>\n",
       "      <td>1</td>\n",
       "      <td>1252</td>\n",
       "      <td>2295</td>\n",
       "      <td>882</td>\n",
       "      <td>1252</td>\n",
       "      <td>2134</td>\n",
       "      <td>Young Adults</td>\n",
       "    </tr>\n",
       "    <tr>\n",
       "      <th>3610</th>\n",
       "      <td>2014-04-03</td>\n",
       "      <td>3</td>\n",
       "      <td>April</td>\n",
       "      <td>2014</td>\n",
       "      <td>26</td>\n",
       "      <td>F</td>\n",
       "      <td>United States</td>\n",
       "      <td>Oregon</td>\n",
       "      <td>Accessories</td>\n",
       "      <td>Bottles and Cages</td>\n",
       "      <td>Water Bottle - 30 oz.</td>\n",
       "      <td>29</td>\n",
       "      <td>2</td>\n",
       "      <td>5</td>\n",
       "      <td>67</td>\n",
       "      <td>58</td>\n",
       "      <td>125</td>\n",
       "      <td>Young Adults</td>\n",
       "    </tr>\n",
       "    <tr>\n",
       "      <th>63051</th>\n",
       "      <td>2015-10-05</td>\n",
       "      <td>5</td>\n",
       "      <td>October</td>\n",
       "      <td>2015</td>\n",
       "      <td>29</td>\n",
       "      <td>F</td>\n",
       "      <td>Australia</td>\n",
       "      <td>New South Wales</td>\n",
       "      <td>Bikes</td>\n",
       "      <td>Road Bikes</td>\n",
       "      <td>Road-150 Red, 62</td>\n",
       "      <td>1</td>\n",
       "      <td>2171</td>\n",
       "      <td>3578</td>\n",
       "      <td>942</td>\n",
       "      <td>2171</td>\n",
       "      <td>3113</td>\n",
       "      <td>Young Adults</td>\n",
       "    </tr>\n",
       "    <tr>\n",
       "      <th>15910</th>\n",
       "      <td>2014-06-28</td>\n",
       "      <td>28</td>\n",
       "      <td>June</td>\n",
       "      <td>2014</td>\n",
       "      <td>50</td>\n",
       "      <td>F</td>\n",
       "      <td>United Kingdom</td>\n",
       "      <td>England</td>\n",
       "      <td>Accessories</td>\n",
       "      <td>Bottles and Cages</td>\n",
       "      <td>Road Bottle Cage</td>\n",
       "      <td>7</td>\n",
       "      <td>3</td>\n",
       "      <td>9</td>\n",
       "      <td>39</td>\n",
       "      <td>21</td>\n",
       "      <td>60</td>\n",
       "      <td>Adults</td>\n",
       "    </tr>\n",
       "  </tbody>\n",
       "</table>\n",
       "</div>"
      ],
      "text/plain": [
       "             Date  Day     Month  Year  Customer_Age Customer_Gender  \\\n",
       "81199  2015-11-19   19  November  2015            28               F   \n",
       "50977  2015-10-04    4   October  2015            33               M   \n",
       "3610   2014-04-03    3     April  2014            26               F   \n",
       "63051  2015-10-05    5   October  2015            29               F   \n",
       "15910  2014-06-28   28      June  2014            50               F   \n",
       "\n",
       "              Country            State Product_Category       Sub_Category  \\\n",
       "81199       Australia  New South Wales      Accessories    Tires and Tubes   \n",
       "50977         Germany           Hessen            Bikes     Mountain Bikes   \n",
       "3610    United States           Oregon      Accessories  Bottles and Cages   \n",
       "63051       Australia  New South Wales            Bikes         Road Bikes   \n",
       "15910  United Kingdom          England      Accessories  Bottles and Cages   \n",
       "\n",
       "                      Product  Order_Quantity  Unit_Cost  Unit_Price  Profit  \\\n",
       "81199     Patch Kit/8 Patches               8          1           2       6   \n",
       "50977  Mountain-200 Black, 42               1       1252        2295     882   \n",
       "3610    Water Bottle - 30 oz.              29          2           5      67   \n",
       "63051        Road-150 Red, 62               1       2171        3578     942   \n",
       "15910        Road Bottle Cage               7          3           9      39   \n",
       "\n",
       "       Cost  Revenue  Age_Category  \n",
       "81199     8       14  Young Adults  \n",
       "50977  1252     2134  Young Adults  \n",
       "3610     58      125  Young Adults  \n",
       "63051  2171     3113  Young Adults  \n",
       "15910    21       60        Adults  "
      ]
     },
     "execution_count": 7,
     "metadata": {},
     "output_type": "execute_result"
    }
   ],
   "source": [
    "sales = sales.drop('Age_Group',axis=1)\n",
    "sales.sample(5)"
   ]
  },
  {
   "cell_type": "code",
   "execution_count": 8,
   "id": "8161ac99",
   "metadata": {},
   "outputs": [
    {
     "data": {
      "text/html": [
       "<div>\n",
       "<style scoped>\n",
       "    .dataframe tbody tr th:only-of-type {\n",
       "        vertical-align: middle;\n",
       "    }\n",
       "\n",
       "    .dataframe tbody tr th {\n",
       "        vertical-align: top;\n",
       "    }\n",
       "\n",
       "    .dataframe thead th {\n",
       "        text-align: right;\n",
       "    }\n",
       "</style>\n",
       "<table border=\"1\" class=\"dataframe\">\n",
       "  <thead>\n",
       "    <tr style=\"text-align: right;\">\n",
       "      <th></th>\n",
       "      <th>Date</th>\n",
       "      <th>Day</th>\n",
       "      <th>Month</th>\n",
       "      <th>Year</th>\n",
       "      <th>Customer_Age</th>\n",
       "      <th>Customer_Gender</th>\n",
       "      <th>Country</th>\n",
       "      <th>State</th>\n",
       "      <th>Product_Category</th>\n",
       "      <th>Sub_Category</th>\n",
       "      <th>Product</th>\n",
       "      <th>Order_Quantity</th>\n",
       "      <th>Unit_Cost</th>\n",
       "      <th>Unit_Price</th>\n",
       "      <th>Profit</th>\n",
       "      <th>Cost</th>\n",
       "      <th>Revenue</th>\n",
       "      <th>Age_Category</th>\n",
       "    </tr>\n",
       "  </thead>\n",
       "  <tbody>\n",
       "  </tbody>\n",
       "</table>\n",
       "</div>"
      ],
      "text/plain": [
       "Empty DataFrame\n",
       "Columns: [Date, Day, Month, Year, Customer_Age, Customer_Gender, Country, State, Product_Category, Sub_Category, Product, Order_Quantity, Unit_Cost, Unit_Price, Profit, Cost, Revenue, Age_Category]\n",
       "Index: []"
      ]
     },
     "execution_count": 8,
     "metadata": {},
     "output_type": "execute_result"
    }
   ],
   "source": [
    "cost_ = sales['Unit_Cost'] * sales['Order_Quantity']\n",
    "sales[sales['Cost']  != cost_]"
   ]
  },
  {
   "cell_type": "code",
   "execution_count": 26,
   "id": "bdb9d6d6",
   "metadata": {},
   "outputs": [
    {
     "name": "stdout",
     "output_type": "stream",
     "text": [
      "<class 'pandas.core.frame.DataFrame'>\n",
      "Int64Index: 112036 entries, 0 to 113035\n",
      "Data columns (total 18 columns):\n",
      " #   Column            Non-Null Count   Dtype \n",
      "---  ------            --------------   ----- \n",
      " 0   Date              112036 non-null  object\n",
      " 1   Day               112036 non-null  int64 \n",
      " 2   Month             112036 non-null  object\n",
      " 3   Year              112036 non-null  int64 \n",
      " 4   Customer_Age      112036 non-null  int64 \n",
      " 5   Customer_Gender   112036 non-null  object\n",
      " 6   Country           112036 non-null  object\n",
      " 7   State             112036 non-null  object\n",
      " 8   Product_Category  112036 non-null  object\n",
      " 9   Sub_Category      112036 non-null  object\n",
      " 10  Product           112036 non-null  object\n",
      " 11  Order_Quantity    112036 non-null  int64 \n",
      " 12  Unit_Cost         112036 non-null  int64 \n",
      " 13  Unit_Price        112036 non-null  int64 \n",
      " 14  Profit            112036 non-null  int64 \n",
      " 15  Cost              112036 non-null  int64 \n",
      " 16  Revenue           112036 non-null  int64 \n",
      " 17  Age_Category      112036 non-null  object\n",
      "dtypes: int64(9), object(9)\n",
      "memory usage: 16.2+ MB\n"
     ]
    }
   ],
   "source": [
    "sales.info()"
   ]
  },
  {
   "cell_type": "code",
   "execution_count": 27,
   "id": "fa4cf4dd",
   "metadata": {},
   "outputs": [
    {
     "data": {
      "text/html": [
       "<div>\n",
       "<style scoped>\n",
       "    .dataframe tbody tr th:only-of-type {\n",
       "        vertical-align: middle;\n",
       "    }\n",
       "\n",
       "    .dataframe tbody tr th {\n",
       "        vertical-align: top;\n",
       "    }\n",
       "\n",
       "    .dataframe thead th {\n",
       "        text-align: right;\n",
       "    }\n",
       "</style>\n",
       "<table border=\"1\" class=\"dataframe\">\n",
       "  <thead>\n",
       "    <tr style=\"text-align: right;\">\n",
       "      <th></th>\n",
       "      <th>Day</th>\n",
       "      <th>Year</th>\n",
       "      <th>Customer_Age</th>\n",
       "      <th>Order_Quantity</th>\n",
       "      <th>Unit_Cost</th>\n",
       "      <th>Unit_Price</th>\n",
       "      <th>Profit</th>\n",
       "      <th>Cost</th>\n",
       "      <th>Revenue</th>\n",
       "    </tr>\n",
       "  </thead>\n",
       "  <tbody>\n",
       "    <tr>\n",
       "      <th>count</th>\n",
       "      <td>112036.000000</td>\n",
       "      <td>112036.000000</td>\n",
       "      <td>112036.000000</td>\n",
       "      <td>112036.000000</td>\n",
       "      <td>112036.000000</td>\n",
       "      <td>112036.000000</td>\n",
       "      <td>112036.000000</td>\n",
       "      <td>112036.000000</td>\n",
       "      <td>112036.000000</td>\n",
       "    </tr>\n",
       "    <tr>\n",
       "      <th>mean</th>\n",
       "      <td>15.665607</td>\n",
       "      <td>2014.400925</td>\n",
       "      <td>35.919508</td>\n",
       "      <td>11.904254</td>\n",
       "      <td>267.819603</td>\n",
       "      <td>453.850628</td>\n",
       "      <td>286.035194</td>\n",
       "      <td>471.103333</td>\n",
       "      <td>757.138527</td>\n",
       "    </tr>\n",
       "    <tr>\n",
       "      <th>std</th>\n",
       "      <td>8.781485</td>\n",
       "      <td>1.273327</td>\n",
       "      <td>11.016543</td>\n",
       "      <td>9.564877</td>\n",
       "      <td>550.218722</td>\n",
       "      <td>922.751848</td>\n",
       "      <td>454.852634</td>\n",
       "      <td>886.971635</td>\n",
       "      <td>1312.061623</td>\n",
       "    </tr>\n",
       "    <tr>\n",
       "      <th>min</th>\n",
       "      <td>1.000000</td>\n",
       "      <td>2011.000000</td>\n",
       "      <td>17.000000</td>\n",
       "      <td>1.000000</td>\n",
       "      <td>1.000000</td>\n",
       "      <td>2.000000</td>\n",
       "      <td>-30.000000</td>\n",
       "      <td>1.000000</td>\n",
       "      <td>2.000000</td>\n",
       "    </tr>\n",
       "    <tr>\n",
       "      <th>25%</th>\n",
       "      <td>8.000000</td>\n",
       "      <td>2013.000000</td>\n",
       "      <td>28.000000</td>\n",
       "      <td>2.000000</td>\n",
       "      <td>2.000000</td>\n",
       "      <td>5.000000</td>\n",
       "      <td>29.000000</td>\n",
       "      <td>28.000000</td>\n",
       "      <td>64.000000</td>\n",
       "    </tr>\n",
       "    <tr>\n",
       "      <th>50%</th>\n",
       "      <td>16.000000</td>\n",
       "      <td>2014.000000</td>\n",
       "      <td>35.000000</td>\n",
       "      <td>10.000000</td>\n",
       "      <td>9.000000</td>\n",
       "      <td>25.000000</td>\n",
       "      <td>103.000000</td>\n",
       "      <td>112.000000</td>\n",
       "      <td>226.000000</td>\n",
       "    </tr>\n",
       "    <tr>\n",
       "      <th>75%</th>\n",
       "      <td>23.000000</td>\n",
       "      <td>2016.000000</td>\n",
       "      <td>43.000000</td>\n",
       "      <td>20.000000</td>\n",
       "      <td>42.000000</td>\n",
       "      <td>70.000000</td>\n",
       "      <td>360.000000</td>\n",
       "      <td>442.000000</td>\n",
       "      <td>806.000000</td>\n",
       "    </tr>\n",
       "    <tr>\n",
       "      <th>max</th>\n",
       "      <td>31.000000</td>\n",
       "      <td>2016.000000</td>\n",
       "      <td>87.000000</td>\n",
       "      <td>32.000000</td>\n",
       "      <td>2171.000000</td>\n",
       "      <td>3578.000000</td>\n",
       "      <td>15096.000000</td>\n",
       "      <td>42978.000000</td>\n",
       "      <td>58074.000000</td>\n",
       "    </tr>\n",
       "  </tbody>\n",
       "</table>\n",
       "</div>"
      ],
      "text/plain": [
       "                 Day           Year   Customer_Age  Order_Quantity  \\\n",
       "count  112036.000000  112036.000000  112036.000000   112036.000000   \n",
       "mean       15.665607    2014.400925      35.919508       11.904254   \n",
       "std         8.781485       1.273327      11.016543        9.564877   \n",
       "min         1.000000    2011.000000      17.000000        1.000000   \n",
       "25%         8.000000    2013.000000      28.000000        2.000000   \n",
       "50%        16.000000    2014.000000      35.000000       10.000000   \n",
       "75%        23.000000    2016.000000      43.000000       20.000000   \n",
       "max        31.000000    2016.000000      87.000000       32.000000   \n",
       "\n",
       "           Unit_Cost     Unit_Price         Profit           Cost  \\\n",
       "count  112036.000000  112036.000000  112036.000000  112036.000000   \n",
       "mean      267.819603     453.850628     286.035194     471.103333   \n",
       "std       550.218722     922.751848     454.852634     886.971635   \n",
       "min         1.000000       2.000000     -30.000000       1.000000   \n",
       "25%         2.000000       5.000000      29.000000      28.000000   \n",
       "50%         9.000000      25.000000     103.000000     112.000000   \n",
       "75%        42.000000      70.000000     360.000000     442.000000   \n",
       "max      2171.000000    3578.000000   15096.000000   42978.000000   \n",
       "\n",
       "             Revenue  \n",
       "count  112036.000000  \n",
       "mean      757.138527  \n",
       "std      1312.061623  \n",
       "min         2.000000  \n",
       "25%        64.000000  \n",
       "50%       226.000000  \n",
       "75%       806.000000  \n",
       "max     58074.000000  "
      ]
     },
     "execution_count": 27,
     "metadata": {},
     "output_type": "execute_result"
    }
   ],
   "source": [
    "sales.describe()"
   ]
  },
  {
   "cell_type": "code",
   "execution_count": 28,
   "id": "ae11f061",
   "metadata": {},
   "outputs": [
    {
     "data": {
      "image/png": "[encoded data removed]",
      "text/plain": [
       "<Figure size 648x360 with 1 Axes>"
      ]
     },
     "metadata": {
      "needs_background": "light"
     },
     "output_type": "display_data"
    },
    {
     "data": {
      "image/png": "[encoded data removed]",
      "text/plain": [
       "<Figure size 648x360 with 1 Axes>"
      ]
     },
     "metadata": {
      "needs_background": "light"
     },
     "output_type": "display_data"
    },
    {
     "data": {
      "image/png": "[encoded data removed]",
      "text/plain": [
       "<Figure size 648x360 with 1 Axes>"
      ]
     },
     "metadata": {
      "needs_background": "light"
     },
     "output_type": "display_data"
    },
    {
     "data": {
      "image/png": "[encoded data removed]",
      "text/plain": [
       "<Figure size 648x360 with 1 Axes>"
      ]
     },
     "metadata": {
      "needs_background": "light"
     },
     "output_type": "display_data"
    },
    {
     "data": {
      "image/png": "[encoded data removed]",
      "text/plain": [
       "<Figure size 648x360 with 1 Axes>"
      ]
     },
     "metadata": {
      "needs_background": "light"
     },
     "output_type": "display_data"
    },
    {
     "data": {
      "image/png": "[encoded data removed]",
      "text/plain": [
       "<Figure size 648x360 with 1 Axes>"
      ]
     },
     "metadata": {
      "needs_background": "light"
     },
     "output_type": "display_data"
    },
    {
     "data": {
      "image/png": "[encoded data removed]",
      "text/plain": [
       "<Figure size 648x360 with 1 Axes>"
      ]
     },
     "metadata": {
      "needs_background": "light"
     },
     "output_type": "display_data"
    },
    {
     "data": {
      "image/png": "[encoded data removed]",
      "text/plain": [
       "<Figure size 648x360 with 1 Axes>"
      ]
     },
     "metadata": {
      "needs_background": "light"
     },
     "output_type": "display_data"
    },
    {
     "data": {
      "image/png": "[encoded data removed]",
      "text/plain": [
       "<Figure size 648x360 with 1 Axes>"
      ]
     },
     "metadata": {
      "needs_background": "light"
     },
     "output_type": "display_data"
    }
   ],
   "source": [
    "for i in sales.describe().columns:\n",
    "    plt.figure(figsize=(9,5))\n",
    "    sns.boxplot(data=sales[i])\n",
    "    plt.title(f'Box Plot of {i}')"
   ]
  },
  {
   "cell_type": "code",
   "execution_count": 29,
   "id": "a85ffd98",
   "metadata": {},
   "outputs": [
    {
     "data": {
      "image/png": "[encoded data removed]",
      "text/plain": [
       "<Figure size 648x360 with 1 Axes>"
      ]
     },
     "metadata": {
      "needs_background": "light"
     },
     "output_type": "display_data"
    },
    {
     "data": {
      "image/png": "[encoded data removed]",
      "text/plain": [
       "<Figure size 648x360 with 1 Axes>"
      ]
     },
     "metadata": {
      "needs_background": "light"
     },
     "output_type": "display_data"
    },
    {
     "data": {
      "image/png": "[encoded data removed]",
      "text/plain": [
       "<Figure size 648x360 with 1 Axes>"
      ]
     },
     "metadata": {
      "needs_background": "light"
     },
     "output_type": "display_data"
    },
    {
     "data": {
      "image/png": "[encoded data removed]",
      "text/plain": [
       "<Figure size 648x360 with 1 Axes>"
      ]
     },
     "metadata": {
      "needs_background": "light"
     },
     "output_type": "display_data"
    },
    {
     "data": {
      "image/png": "[encoded data removed]",
      "text/plain": [
       "<Figure size 648x360 with 1 Axes>"
      ]
     },
     "metadata": {
      "needs_background": "light"
     },
     "output_type": "display_data"
    },
    {
     "data": {
      "image/png": "[encoded data removed]",
      "text/plain": [
       "<Figure size 648x360 with 1 Axes>"
      ]
     },
     "metadata": {
      "needs_background": "light"
     },
     "output_type": "display_data"
    },
    {
     "data": {
      "image/png": "[encoded data removed]",
      "text/plain": [
       "<Figure size 648x360 with 1 Axes>"
      ]
     },
     "metadata": {
      "needs_background": "light"
     },
     "output_type": "display_data"
    },
    {
     "data": {
      "image/png": "[encoded data removed]",
      "text/plain": [
       "<Figure size 648x360 with 1 Axes>"
      ]
     },
     "metadata": {
      "needs_background": "light"
     },
     "output_type": "display_data"
    },
    {
     "data": {
      "image/png": "[encoded data removed]",
      "text/plain": [
       "<Figure size 648x360 with 1 Axes>"
      ]
     },
     "metadata": {
      "needs_background": "light"
     },
     "output_type": "display_data"
    }
   ],
   "source": [
    "for i in sales.describe().columns:\n",
    "    plt.figure(figsize=(9,5))\n",
    "    sns.histplot(data=sales[i])\n",
    "    plt.title(f'Hist Plot of {i}')"
   ]
  },
  {
   "cell_type": "code",
   "execution_count": 9,
   "id": "4b375bd3",
   "metadata": {},
   "outputs": [],
   "source": [
    "def clean_outliers(data):\n",
    "    data_cleaned = []\n",
    "    data_sorted = sorted(data)\n",
    "    q1,q3 = np.percentile(data,[25,75])\n",
    "    iqr = q3 -q1\n",
    "    lowerfence,higherfence = q1-1.5*iqr,q3+1.5*iqr\n",
    "    for i in data :\n",
    "        if (i >=lowerfence) & (i<=higherfence):\n",
    "            data_cleaned.append(i)\n",
    "        else:\n",
    "            data_cleaned.append(None)\n",
    "    return data_cleaned"
   ]
  },
  {
   "cell_type": "code",
   "execution_count": 10,
   "id": "84980355",
   "metadata": {},
   "outputs": [],
   "source": [
    "for k in sales.describe().columns:\n",
    "    sales[f'{k}'] = clean_outliers(sales[k])"
   ]
  },
  {
   "cell_type": "code",
   "execution_count": 11,
   "id": "0f06be0b",
   "metadata": {},
   "outputs": [
    {
     "data": {
      "text/html": [
       "<div>\n",
       "<style scoped>\n",
       "    .dataframe tbody tr th:only-of-type {\n",
       "        vertical-align: middle;\n",
       "    }\n",
       "\n",
       "    .dataframe tbody tr th {\n",
       "        vertical-align: top;\n",
       "    }\n",
       "\n",
       "    .dataframe thead th {\n",
       "        text-align: right;\n",
       "    }\n",
       "</style>\n",
       "<table border=\"1\" class=\"dataframe\">\n",
       "  <thead>\n",
       "    <tr style=\"text-align: right;\">\n",
       "      <th></th>\n",
       "      <th>Date</th>\n",
       "      <th>Day</th>\n",
       "      <th>Month</th>\n",
       "      <th>Year</th>\n",
       "      <th>Customer_Age</th>\n",
       "      <th>Customer_Gender</th>\n",
       "      <th>Country</th>\n",
       "      <th>State</th>\n",
       "      <th>Product_Category</th>\n",
       "      <th>Sub_Category</th>\n",
       "      <th>Product</th>\n",
       "      <th>Order_Quantity</th>\n",
       "      <th>Unit_Cost</th>\n",
       "      <th>Unit_Price</th>\n",
       "      <th>Profit</th>\n",
       "      <th>Cost</th>\n",
       "      <th>Revenue</th>\n",
       "      <th>Age_Category</th>\n",
       "    </tr>\n",
       "  </thead>\n",
       "  <tbody>\n",
       "    <tr>\n",
       "      <th>0</th>\n",
       "      <td>2013-11-26</td>\n",
       "      <td>26</td>\n",
       "      <td>November</td>\n",
       "      <td>2013</td>\n",
       "      <td>19.0</td>\n",
       "      <td>M</td>\n",
       "      <td>Canada</td>\n",
       "      <td>British Columbia</td>\n",
       "      <td>Accessories</td>\n",
       "      <td>Bike Racks</td>\n",
       "      <td>Hitch Rack - 4-Bike</td>\n",
       "      <td>8</td>\n",
       "      <td>45.0</td>\n",
       "      <td>120.0</td>\n",
       "      <td>590.0</td>\n",
       "      <td>360.0</td>\n",
       "      <td>950.0</td>\n",
       "      <td>Youth</td>\n",
       "    </tr>\n",
       "    <tr>\n",
       "      <th>1</th>\n",
       "      <td>2015-11-26</td>\n",
       "      <td>26</td>\n",
       "      <td>November</td>\n",
       "      <td>2015</td>\n",
       "      <td>19.0</td>\n",
       "      <td>M</td>\n",
       "      <td>Canada</td>\n",
       "      <td>British Columbia</td>\n",
       "      <td>Accessories</td>\n",
       "      <td>Bike Racks</td>\n",
       "      <td>Hitch Rack - 4-Bike</td>\n",
       "      <td>8</td>\n",
       "      <td>45.0</td>\n",
       "      <td>120.0</td>\n",
       "      <td>590.0</td>\n",
       "      <td>360.0</td>\n",
       "      <td>950.0</td>\n",
       "      <td>Youth</td>\n",
       "    </tr>\n",
       "    <tr>\n",
       "      <th>2</th>\n",
       "      <td>2014-03-23</td>\n",
       "      <td>23</td>\n",
       "      <td>March</td>\n",
       "      <td>2014</td>\n",
       "      <td>49.0</td>\n",
       "      <td>M</td>\n",
       "      <td>Australia</td>\n",
       "      <td>New South Wales</td>\n",
       "      <td>Accessories</td>\n",
       "      <td>Bike Racks</td>\n",
       "      <td>Hitch Rack - 4-Bike</td>\n",
       "      <td>23</td>\n",
       "      <td>45.0</td>\n",
       "      <td>120.0</td>\n",
       "      <td>NaN</td>\n",
       "      <td>1035.0</td>\n",
       "      <td>NaN</td>\n",
       "      <td>Adults</td>\n",
       "    </tr>\n",
       "    <tr>\n",
       "      <th>3</th>\n",
       "      <td>2016-03-23</td>\n",
       "      <td>23</td>\n",
       "      <td>March</td>\n",
       "      <td>2016</td>\n",
       "      <td>49.0</td>\n",
       "      <td>M</td>\n",
       "      <td>Australia</td>\n",
       "      <td>New South Wales</td>\n",
       "      <td>Accessories</td>\n",
       "      <td>Bike Racks</td>\n",
       "      <td>Hitch Rack - 4-Bike</td>\n",
       "      <td>20</td>\n",
       "      <td>45.0</td>\n",
       "      <td>120.0</td>\n",
       "      <td>NaN</td>\n",
       "      <td>900.0</td>\n",
       "      <td>NaN</td>\n",
       "      <td>Adults</td>\n",
       "    </tr>\n",
       "    <tr>\n",
       "      <th>4</th>\n",
       "      <td>2014-05-15</td>\n",
       "      <td>15</td>\n",
       "      <td>May</td>\n",
       "      <td>2014</td>\n",
       "      <td>47.0</td>\n",
       "      <td>F</td>\n",
       "      <td>Australia</td>\n",
       "      <td>New South Wales</td>\n",
       "      <td>Accessories</td>\n",
       "      <td>Bike Racks</td>\n",
       "      <td>Hitch Rack - 4-Bike</td>\n",
       "      <td>4</td>\n",
       "      <td>45.0</td>\n",
       "      <td>120.0</td>\n",
       "      <td>238.0</td>\n",
       "      <td>180.0</td>\n",
       "      <td>418.0</td>\n",
       "      <td>Adults</td>\n",
       "    </tr>\n",
       "  </tbody>\n",
       "</table>\n",
       "</div>"
      ],
      "text/plain": [
       "         Date  Day     Month  Year  Customer_Age Customer_Gender    Country  \\\n",
       "0  2013-11-26   26  November  2013          19.0               M     Canada   \n",
       "1  2015-11-26   26  November  2015          19.0               M     Canada   \n",
       "2  2014-03-23   23     March  2014          49.0               M  Australia   \n",
       "3  2016-03-23   23     March  2016          49.0               M  Australia   \n",
       "4  2014-05-15   15       May  2014          47.0               F  Australia   \n",
       "\n",
       "              State Product_Category Sub_Category              Product  \\\n",
       "0  British Columbia      Accessories   Bike Racks  Hitch Rack - 4-Bike   \n",
       "1  British Columbia      Accessories   Bike Racks  Hitch Rack - 4-Bike   \n",
       "2   New South Wales      Accessories   Bike Racks  Hitch Rack - 4-Bike   \n",
       "3   New South Wales      Accessories   Bike Racks  Hitch Rack - 4-Bike   \n",
       "4   New South Wales      Accessories   Bike Racks  Hitch Rack - 4-Bike   \n",
       "\n",
       "   Order_Quantity  Unit_Cost  Unit_Price  Profit    Cost  Revenue Age_Category  \n",
       "0               8       45.0       120.0   590.0   360.0    950.0        Youth  \n",
       "1               8       45.0       120.0   590.0   360.0    950.0        Youth  \n",
       "2              23       45.0       120.0     NaN  1035.0      NaN       Adults  \n",
       "3              20       45.0       120.0     NaN   900.0      NaN       Adults  \n",
       "4               4       45.0       120.0   238.0   180.0    418.0       Adults  "
      ]
     },
     "execution_count": 11,
     "metadata": {},
     "output_type": "execute_result"
    }
   ],
   "source": [
    "sales.head()"
   ]
  },
  {
   "cell_type": "code",
   "execution_count": 12,
   "id": "3b454cfb",
   "metadata": {},
   "outputs": [
    {
     "data": {
      "text/plain": [
       "Date                    0\n",
       "Day                     0\n",
       "Month                   0\n",
       "Year                    0\n",
       "Customer_Age          526\n",
       "Customer_Gender         0\n",
       "Country                 0\n",
       "State                   0\n",
       "Product_Category        0\n",
       "Sub_Category            0\n",
       "Product                 0\n",
       "Order_Quantity          0\n",
       "Unit_Cost           25796\n",
       "Unit_Price          25796\n",
       "Profit               9558\n",
       "Cost                17979\n",
       "Revenue             14603\n",
       "Age_Category            0\n",
       "dtype: int64"
      ]
     },
     "execution_count": 12,
     "metadata": {},
     "output_type": "execute_result"
    }
   ],
   "source": [
    "sales.isna().sum()"
   ]
  },
  {
   "cell_type": "code",
   "execution_count": 13,
   "id": "237c94e6",
   "metadata": {},
   "outputs": [],
   "source": [
    "sales = sales.dropna()"
   ]
  },
  {
   "cell_type": "code",
   "execution_count": 14,
   "id": "545d1d8d",
   "metadata": {},
   "outputs": [
    {
     "data": {
      "text/plain": [
       "Date                0\n",
       "Day                 0\n",
       "Month               0\n",
       "Year                0\n",
       "Customer_Age        0\n",
       "Customer_Gender     0\n",
       "Country             0\n",
       "State               0\n",
       "Product_Category    0\n",
       "Sub_Category        0\n",
       "Product             0\n",
       "Order_Quantity      0\n",
       "Unit_Cost           0\n",
       "Unit_Price          0\n",
       "Profit              0\n",
       "Cost                0\n",
       "Revenue             0\n",
       "Age_Category        0\n",
       "dtype: int64"
      ]
     },
     "execution_count": 14,
     "metadata": {},
     "output_type": "execute_result"
    }
   ],
   "source": [
    "sales.isna().sum()"
   ]
  },
  {
   "cell_type": "code",
   "execution_count": 36,
   "id": "6b852c0b",
   "metadata": {},
   "outputs": [
    {
     "data": {
      "text/plain": [
       "(84339, 18)"
      ]
     },
     "execution_count": 36,
     "metadata": {},
     "output_type": "execute_result"
    }
   ],
   "source": [
    "sales.shape"
   ]
  },
  {
   "cell_type": "code",
   "execution_count": 37,
   "id": "77d4384f",
   "metadata": {},
   "outputs": [
    {
     "data": {
      "text/html": [
       "<div>\n",
       "<style scoped>\n",
       "    .dataframe tbody tr th:only-of-type {\n",
       "        vertical-align: middle;\n",
       "    }\n",
       "\n",
       "    .dataframe tbody tr th {\n",
       "        vertical-align: top;\n",
       "    }\n",
       "\n",
       "    .dataframe thead th {\n",
       "        text-align: right;\n",
       "    }\n",
       "</style>\n",
       "<table border=\"1\" class=\"dataframe\">\n",
       "  <thead>\n",
       "    <tr style=\"text-align: right;\">\n",
       "      <th></th>\n",
       "      <th>Day</th>\n",
       "      <th>Year</th>\n",
       "      <th>Customer_Age</th>\n",
       "      <th>Order_Quantity</th>\n",
       "      <th>Unit_Cost</th>\n",
       "      <th>Unit_Price</th>\n",
       "      <th>Profit</th>\n",
       "      <th>Cost</th>\n",
       "      <th>Revenue</th>\n",
       "    </tr>\n",
       "  </thead>\n",
       "  <tbody>\n",
       "    <tr>\n",
       "      <th>count</th>\n",
       "      <td>84339.000000</td>\n",
       "      <td>84339.000000</td>\n",
       "      <td>84339.000000</td>\n",
       "      <td>84339.000000</td>\n",
       "      <td>84339.000000</td>\n",
       "      <td>84339.000000</td>\n",
       "      <td>84339.000000</td>\n",
       "      <td>84339.000000</td>\n",
       "      <td>84339.000000</td>\n",
       "    </tr>\n",
       "    <tr>\n",
       "      <th>mean</th>\n",
       "      <td>15.668493</td>\n",
       "      <td>2014.570341</td>\n",
       "      <td>35.853674</td>\n",
       "      <td>14.854658</td>\n",
       "      <td>8.951446</td>\n",
       "      <td>19.994012</td>\n",
       "      <td>125.828537</td>\n",
       "      <td>122.497160</td>\n",
       "      <td>248.325697</td>\n",
       "    </tr>\n",
       "    <tr>\n",
       "      <th>std</th>\n",
       "      <td>8.795328</td>\n",
       "      <td>1.115927</td>\n",
       "      <td>10.988588</td>\n",
       "      <td>8.632433</td>\n",
       "      <td>10.868159</td>\n",
       "      <td>21.487157</td>\n",
       "      <td>156.034914</td>\n",
       "      <td>166.053863</td>\n",
       "      <td>288.889671</td>\n",
       "    </tr>\n",
       "    <tr>\n",
       "      <th>min</th>\n",
       "      <td>1.000000</td>\n",
       "      <td>2013.000000</td>\n",
       "      <td>17.000000</td>\n",
       "      <td>1.000000</td>\n",
       "      <td>1.000000</td>\n",
       "      <td>2.000000</td>\n",
       "      <td>-24.000000</td>\n",
       "      <td>1.000000</td>\n",
       "      <td>2.000000</td>\n",
       "    </tr>\n",
       "    <tr>\n",
       "      <th>25%</th>\n",
       "      <td>8.000000</td>\n",
       "      <td>2014.000000</td>\n",
       "      <td>27.000000</td>\n",
       "      <td>7.000000</td>\n",
       "      <td>2.000000</td>\n",
       "      <td>5.000000</td>\n",
       "      <td>20.000000</td>\n",
       "      <td>21.000000</td>\n",
       "      <td>45.000000</td>\n",
       "    </tr>\n",
       "    <tr>\n",
       "      <th>50%</th>\n",
       "      <td>16.000000</td>\n",
       "      <td>2015.000000</td>\n",
       "      <td>34.000000</td>\n",
       "      <td>15.000000</td>\n",
       "      <td>4.000000</td>\n",
       "      <td>9.000000</td>\n",
       "      <td>57.000000</td>\n",
       "      <td>52.000000</td>\n",
       "      <td>115.000000</td>\n",
       "    </tr>\n",
       "    <tr>\n",
       "      <th>75%</th>\n",
       "      <td>23.000000</td>\n",
       "      <td>2016.000000</td>\n",
       "      <td>43.000000</td>\n",
       "      <td>22.000000</td>\n",
       "      <td>13.000000</td>\n",
       "      <td>35.000000</td>\n",
       "      <td>176.000000</td>\n",
       "      <td>169.000000</td>\n",
       "      <td>376.000000</td>\n",
       "    </tr>\n",
       "    <tr>\n",
       "      <th>max</th>\n",
       "      <td>31.000000</td>\n",
       "      <td>2016.000000</td>\n",
       "      <td>65.000000</td>\n",
       "      <td>32.000000</td>\n",
       "      <td>59.000000</td>\n",
       "      <td>159.000000</td>\n",
       "      <td>855.000000</td>\n",
       "      <td>1050.000000</td>\n",
       "      <td>1583.000000</td>\n",
       "    </tr>\n",
       "  </tbody>\n",
       "</table>\n",
       "</div>"
      ],
      "text/plain": [
       "                Day          Year  Customer_Age  Order_Quantity     Unit_Cost  \\\n",
       "count  84339.000000  84339.000000  84339.000000    84339.000000  84339.000000   \n",
       "mean      15.668493   2014.570341     35.853674       14.854658      8.951446   \n",
       "std        8.795328      1.115927     10.988588        8.632433     10.868159   \n",
       "min        1.000000   2013.000000     17.000000        1.000000      1.000000   \n",
       "25%        8.000000   2014.000000     27.000000        7.000000      2.000000   \n",
       "50%       16.000000   2015.000000     34.000000       15.000000      4.000000   \n",
       "75%       23.000000   2016.000000     43.000000       22.000000     13.000000   \n",
       "max       31.000000   2016.000000     65.000000       32.000000     59.000000   \n",
       "\n",
       "         Unit_Price        Profit          Cost       Revenue  \n",
       "count  84339.000000  84339.000000  84339.000000  84339.000000  \n",
       "mean      19.994012    125.828537    122.497160    248.325697  \n",
       "std       21.487157    156.034914    166.053863    288.889671  \n",
       "min        2.000000    -24.000000      1.000000      2.000000  \n",
       "25%        5.000000     20.000000     21.000000     45.000000  \n",
       "50%        9.000000     57.000000     52.000000    115.000000  \n",
       "75%       35.000000    176.000000    169.000000    376.000000  \n",
       "max      159.000000    855.000000   1050.000000   1583.000000  "
      ]
     },
     "execution_count": 37,
     "metadata": {},
     "output_type": "execute_result"
    }
   ],
   "source": [
    "sales.describe()"
   ]
  },
  {
   "cell_type": "code",
   "execution_count": 15,
   "id": "fccb1f17",
   "metadata": {},
   "outputs": [],
   "source": [
    "sales.to_csv('dataset.csv')"
   ]
  },
  {
   "cell_type": "code",
   "execution_count": 16,
   "id": "005d8cd6",
   "metadata": {},
   "outputs": [
    {
     "data": {
      "text/plain": [
       "(84339, 18)"
      ]
     },
     "execution_count": 16,
     "metadata": {},
     "output_type": "execute_result"
    }
   ],
   "source": [
    "sales.shape"
   ]
  },
  {
   "cell_type": "markdown",
   "id": "166f1698",
   "metadata": {},
   "source": [
    "## Data Analysis and Visualization"
   ]
  },
  {
   "cell_type": "code",
   "execution_count": 38,
   "id": "dfd23184",
   "metadata": {},
   "outputs": [
    {
     "data": {
      "text/plain": [
       "array([2013, 2015, 2014, 2016], dtype=int64)"
      ]
     },
     "execution_count": 38,
     "metadata": {},
     "output_type": "execute_result"
    }
   ],
   "source": [
    "sales['Year'].unique()"
   ]
  },
  {
   "cell_type": "code",
   "execution_count": 39,
   "id": "55b7d1fc",
   "metadata": {},
   "outputs": [
    {
     "data": {
      "text/plain": [
       "array(['Canada', 'Australia', 'United States', 'Germany', 'France',\n",
       "       'United Kingdom'], dtype=object)"
      ]
     },
     "execution_count": 39,
     "metadata": {},
     "output_type": "execute_result"
    }
   ],
   "source": [
    "sales['Country'].unique()"
   ]
  },
  {
   "cell_type": "code",
   "execution_count": 40,
   "id": "6fc4966c",
   "metadata": {},
   "outputs": [
    {
     "data": {
      "text/plain": [
       "array(['British Columbia', 'New South Wales', 'Victoria', 'Oregon',\n",
       "       'California', 'Saarland', 'Seine Saint Denis', 'Queensland',\n",
       "       'Nord', 'Washington', 'England', 'Nordrhein-Westfalen', 'Hamburg',\n",
       "       'Loir et Cher', 'Kentucky', 'South Australia', 'Hessen', 'Loiret',\n",
       "       'Seine (Paris)', 'Alberta', 'Bayern', 'Hauts de Seine', 'Yveline',\n",
       "       'Essonne', \"Val d'Oise\", 'Moselle', 'Tasmania', 'Seine et Marne',\n",
       "       'Val de Marne', 'Pas de Calais', 'Charente-Maritime',\n",
       "       'Garonne (Haute)', 'Brandenburg', 'Texas', 'New York', 'Florida',\n",
       "       'Somme', 'Illinois', 'South Carolina', 'North Carolina', 'Georgia',\n",
       "       'Virginia', 'Ohio', 'Ontario', 'Wyoming', 'Missouri', 'Montana',\n",
       "       'Utah', 'Minnesota', 'Mississippi', 'Alabama', 'Arizona'],\n",
       "      dtype=object)"
      ]
     },
     "execution_count": 40,
     "metadata": {},
     "output_type": "execute_result"
    }
   ],
   "source": [
    "sales['State'].unique()"
   ]
  },
  {
   "cell_type": "markdown",
   "id": "4bbeb370",
   "metadata": {},
   "source": [
    "### Show the curve of the profits by the year"
   ]
  },
  {
   "cell_type": "code",
   "execution_count": 41,
   "id": "9b16315f",
   "metadata": {},
   "outputs": [
    {
     "data": {
      "text/plain": [
       "array([2013, 2015, 2014, 2016], dtype=int64)"
      ]
     },
     "execution_count": 41,
     "metadata": {},
     "output_type": "execute_result"
    }
   ],
   "source": [
    "sales['Year'].unique()"
   ]
  },
  {
   "cell_type": "code",
   "execution_count": 42,
   "id": "4606497a",
   "metadata": {},
   "outputs": [
    {
     "data": {
      "text/plain": [
       "Text(0.5, 1.0, 'Profit by year with Million')"
      ]
     },
     "execution_count": 42,
     "metadata": {},
     "output_type": "execute_result"
    },
    {
     "data": {
      "image/png": "[encoded data removed]",
      "text/plain": [
       "<Figure size 432x288 with 1 Axes>"
      ]
     },
     "metadata": {
      "needs_background": "light"
     },
     "output_type": "display_data"
    }
   ],
   "source": [
    "sales['Profit'].groupby(sales['Year']).sum().plot(kind='bar')\n",
    "plt.title('Profit by year with Million')"
   ]
  },
  {
   "cell_type": "markdown",
   "id": "de5289d2",
   "metadata": {},
   "source": [
    "### Profit each year"
   ]
  },
  {
   "cell_type": "code",
   "execution_count": 43,
   "id": "47b5cc1c",
   "metadata": {},
   "outputs": [
    {
     "data": {
      "text/plain": [
       "Year\n",
       "2015    2339673.0\n",
       "2013    2406222.0\n",
       "2016    2894505.0\n",
       "2014    2971853.0\n",
       "Name: Profit, dtype: float64"
      ]
     },
     "execution_count": 43,
     "metadata": {},
     "output_type": "execute_result"
    }
   ],
   "source": [
    "sales['Profit'].groupby(sales['Year']).sum().sort_values()"
   ]
  },
  {
   "cell_type": "markdown",
   "id": "2497bc01",
   "metadata": {},
   "source": [
    "### Profit each month"
   ]
  },
  {
   "cell_type": "code",
   "execution_count": 44,
   "id": "2b740914",
   "metadata": {},
   "outputs": [
    {
     "data": {
      "text/plain": [
       "Month\n",
       "April         924028.0\n",
       "August        838029.0\n",
       "December     1074666.0\n",
       "February      798768.0\n",
       "January       822365.0\n",
       "July          682383.0\n",
       "June          979354.0\n",
       "March         896529.0\n",
       "May           980192.0\n",
       "November      868689.0\n",
       "October       879961.0\n",
       "September     867289.0\n",
       "Name: Profit, dtype: float64"
      ]
     },
     "execution_count": 44,
     "metadata": {},
     "output_type": "execute_result"
    }
   ],
   "source": [
    "sales['Profit'].groupby(sales['Month']).sum()"
   ]
  },
  {
   "cell_type": "markdown",
   "id": "b8e3f6a7",
   "metadata": {},
   "source": [
    "#### 2014 "
   ]
  },
  {
   "cell_type": "code",
   "execution_count": 45,
   "id": "bbbea6c0",
   "metadata": {
    "scrolled": true
   },
   "outputs": [
    {
     "name": "stdout",
     "output_type": "stream",
     "text": [
      "AxesSubplot(0.125,0.60037;0.287037x0.27963)\n"
     ]
    },
    {
     "data": {
      "image/png": "[encoded data removed]",
      "text/plain": [
       "<Figure size 792x576 with 4 Axes>"
      ]
     },
     "metadata": {
      "needs_background": "light"
     },
     "output_type": "display_data"
    }
   ],
   "source": [
    "fig,ax = plt.subplots(2,2,figsize=(11,8))\n",
    "plt.subplots_adjust(wspace=0.7,hspace=0.7)\n",
    "print(ax[0][0])\n",
    "k=0\n",
    "i =0\n",
    "for year in sales['Year'].unique():\n",
    "    \n",
    "    sales[sales[\"Year\"] ==year]['Profit'].groupby(sales['Month']).sum().plot(kind='bar',ax=ax[i][k],title=year)\n",
    "    if k==1:\n",
    "        i=1\n",
    "        k=0\n",
    "    else:\n",
    "        k=k+1\n",
    "\n"
   ]
  },
  {
   "cell_type": "markdown",
   "id": "fff9a7d5",
   "metadata": {},
   "source": [
    "### What is the most gender that make sales ?"
   ]
  },
  {
   "cell_type": "code",
   "execution_count": 46,
   "id": "b072b31e",
   "metadata": {},
   "outputs": [
    {
     "data": {
      "text/plain": [
       "Index(['Date', 'Day', 'Month', 'Year', 'Customer_Age', 'Customer_Gender',\n",
       "       'Country', 'State', 'Product_Category', 'Sub_Category', 'Product',\n",
       "       'Order_Quantity', 'Unit_Cost', 'Unit_Price', 'Profit', 'Cost',\n",
       "       'Revenue', 'Age_Category'],\n",
       "      dtype='object')"
      ]
     },
     "execution_count": 46,
     "metadata": {},
     "output_type": "execute_result"
    }
   ],
   "source": [
    "sales.columns"
   ]
  },
  {
   "cell_type": "code",
   "execution_count": 47,
   "id": "88ce8a53",
   "metadata": {},
   "outputs": [
    {
     "data": {
      "text/plain": [
       "M    43811\n",
       "F    40528\n",
       "Name: Customer_Gender, dtype: int64"
      ]
     },
     "execution_count": 47,
     "metadata": {},
     "output_type": "execute_result"
    }
   ],
   "source": [
    "sales['Customer_Gender'].value_counts()"
   ]
  },
  {
   "cell_type": "code",
   "execution_count": 48,
   "id": "c8baa10b",
   "metadata": {},
   "outputs": [
    {
     "data": {
      "text/plain": [
       "<AxesSubplot:ylabel='Customer_Gender'>"
      ]
     },
     "execution_count": 48,
     "metadata": {},
     "output_type": "execute_result"
    },
    {
     "data": {
      "image/png": "[encoded data removed]",
      "text/plain": [
       "<Figure size 432x288 with 1 Axes>"
      ]
     },
     "metadata": {},
     "output_type": "display_data"
    }
   ],
   "source": [
    "sales['Customer_Gender'].value_counts().plot(kind='pie',autopct=\"%1.1f%%\")"
   ]
  },
  {
   "cell_type": "markdown",
   "id": "8ae2e63a",
   "metadata": {},
   "source": [
    "### What age group made nice profit"
   ]
  },
  {
   "cell_type": "code",
   "execution_count": 49,
   "id": "3561f8b3",
   "metadata": {},
   "outputs": [
    {
     "data": {
      "text/plain": [
       "Age_Category\n",
       "Adults          5521503.0\n",
       "Seniors           23167.0\n",
       "Young Adults    3530222.0\n",
       "Youth           1537361.0\n",
       "Name: Profit, dtype: float64"
      ]
     },
     "execution_count": 49,
     "metadata": {},
     "output_type": "execute_result"
    }
   ],
   "source": [
    "sales['Profit'].groupby(sales['Age_Category']).sum()"
   ]
  },
  {
   "cell_type": "code",
   "execution_count": 50,
   "id": "33f188c8",
   "metadata": {},
   "outputs": [
    {
     "data": {
      "text/plain": [
       "Text(0.5, 1.0, 'Profit by age category with Million')"
      ]
     },
     "execution_count": 50,
     "metadata": {},
     "output_type": "execute_result"
    },
    {
     "data": {
      "image/png": "[encoded data removed]",
      "text/plain": [
       "<Figure size 432x288 with 1 Axes>"
      ]
     },
     "metadata": {
      "needs_background": "light"
     },
     "output_type": "display_data"
    }
   ],
   "source": [
    "sales['Profit'].groupby(sales['Age_Category']).sum().plot(kind='barh')\n",
    "plt.title('Profit by age category with Million')"
   ]
  },
  {
   "cell_type": "markdown",
   "id": "146fca76",
   "metadata": {},
   "source": [
    "### Show 5 countries that made top profit"
   ]
  },
  {
   "cell_type": "code",
   "execution_count": 51,
   "id": "8a51db6d",
   "metadata": {},
   "outputs": [
    {
     "data": {
      "text/plain": [
       "Country\n",
       "France             912243.0\n",
       "Germany           1002931.0\n",
       "United Kingdom    1320379.0\n",
       "Canada            1718988.0\n",
       "Name: Profit, dtype: float64"
      ]
     },
     "execution_count": 51,
     "metadata": {},
     "output_type": "execute_result"
    }
   ],
   "source": [
    "sales['Profit'].groupby(sales['Country']).sum().sort_values()[:4]"
   ]
  },
  {
   "cell_type": "code",
   "execution_count": 52,
   "id": "1c32ca12",
   "metadata": {},
   "outputs": [
    {
     "data": {
      "text/plain": [
       "Text(0.5, 1.0, 'Profit by Country with Million')"
      ]
     },
     "execution_count": 52,
     "metadata": {},
     "output_type": "execute_result"
    },
    {
     "data": {
      "image/png": "[encoded data removed]",
      "text/plain": [
       "<Figure size 432x288 with 1 Axes>"
      ]
     },
     "metadata": {
      "needs_background": "light"
     },
     "output_type": "display_data"
    }
   ],
   "source": [
    "sales['Profit'].groupby(sales['Country']).sum().sort_values()[:4].plot(kind='bar')\n",
    "plt.title('Profit by Country with Million')"
   ]
  },
  {
   "cell_type": "markdown",
   "id": "4321d99a",
   "metadata": {},
   "source": [
    "### Show 5 state that made top profit"
   ]
  },
  {
   "cell_type": "code",
   "execution_count": 61,
   "id": "c4b0cffd",
   "metadata": {},
   "outputs": [
    {
     "data": {
      "text/plain": [
       "State\n",
       "California          2468368.0\n",
       "British Columbia    1712926.0\n",
       "England             1320379.0\n",
       "Washington           840035.0\n",
       "New South Wales      808064.0\n",
       "Name: Profit, dtype: float64"
      ]
     },
     "execution_count": 61,
     "metadata": {},
     "output_type": "execute_result"
    }
   ],
   "source": [
    "data = sales['Profit'].groupby(sales['State']).sum().sort_values(ascending=False)[:5]\n",
    "data"
   ]
  },
  {
   "cell_type": "code",
   "execution_count": 67,
   "id": "ca157ef5",
   "metadata": {},
   "outputs": [
    {
     "data": {
      "text/plain": [
       "Text(0.5, 1.0, 'Top 5 State with Million')"
      ]
     },
     "execution_count": 67,
     "metadata": {},
     "output_type": "execute_result"
    },
    {
     "data": {
      "image/png": "[encoded data removed]",
      "text/plain": [
       "<Figure size 720x432 with 1 Axes>"
      ]
     },
     "metadata": {
      "needs_background": "light"
     },
     "output_type": "display_data"
    }
   ],
   "source": [
    "plt.figure(figsize=(10,6))\n",
    "sns.barplot(y=data.values,x=data.index)\n",
    "plt.title('Top 5 State with Million')"
   ]
  },
  {
   "cell_type": "markdown",
   "id": "2ade9d16",
   "metadata": {},
   "source": [
    "### whitch products made nice profit"
   ]
  },
  {
   "cell_type": "code",
   "execution_count": 72,
   "id": "bc69f394",
   "metadata": {},
   "outputs": [
    {
     "name": "stdout",
     "output_type": "stream",
     "text": [
      "Product\n",
      "Sport-100 Helmet, Red      1186829.0\n",
      "Sport-100 Helmet, Black    1135367.0\n",
      "Sport-100 Helmet, Blue     1040218.0\n",
      "Fender Set - Mountain       744846.0\n",
      "Name: Profit, dtype: float64\n"
     ]
    },
    {
     "data": {
      "text/plain": [
       "<AxesSubplot:xlabel='Product'>"
      ]
     },
     "execution_count": 72,
     "metadata": {},
     "output_type": "execute_result"
    },
    {
     "data": {
      "image/png": "[encoded data removed]",
      "text/plain": [
       "<Figure size 720x576 with 1 Axes>"
      ]
     },
     "metadata": {
      "needs_background": "light"
     },
     "output_type": "display_data"
    }
   ],
   "source": [
    "data = sales['Profit'].groupby(sales['Product']).sum().sort_values(ascending=False)[:4]\n",
    "print(data)\n",
    "plt.figure(figsize=(10,8))\n",
    "sns.barplot(x=data.index,y=data.values)"
   ]
  },
  {
   "cell_type": "markdown",
   "id": "34c008e7",
   "metadata": {},
   "source": [
    "### whitch product sub category made good profit"
   ]
  },
  {
   "cell_type": "code",
   "execution_count": 73,
   "id": "ffc960ab",
   "metadata": {},
   "outputs": [
    {
     "name": "stdout",
     "output_type": "stream",
     "text": [
      "Sub_Category\n",
      "Helmets              3361439.0\n",
      "Tires and Tubes      2662283.0\n",
      "Bottles and Cages     798259.0\n",
      "Fenders               744719.0\n",
      "Name: Profit, dtype: float64\n"
     ]
    },
    {
     "data": {
      "text/plain": [
       "<AxesSubplot:xlabel='Sub_Category'>"
      ]
     },
     "execution_count": 73,
     "metadata": {},
     "output_type": "execute_result"
    },
    {
     "data": {
      "image/png": "[encoded data removed]",
      "text/plain": [
       "<Figure size 720x576 with 1 Axes>"
      ]
     },
     "metadata": {
      "needs_background": "light"
     },
     "output_type": "display_data"
    }
   ],
   "source": [
    "data = sales['Profit'].groupby(sales['Sub_Category']).sum().sort_values(ascending=False)[:4]\n",
    "print(data)\n",
    "plt.figure(figsize=(10,8))\n",
    "sns.barplot(x=data.index,y=data.values)"
   ]
  },
  {
   "cell_type": "markdown",
   "id": "909fe51b",
   "metadata": {},
   "source": [
    "### whitch product category made good profit"
   ]
  },
  {
   "cell_type": "code",
   "execution_count": 74,
   "id": "bedc6bbf",
   "metadata": {},
   "outputs": [
    {
     "name": "stdout",
     "output_type": "stream",
     "text": [
      "Product_Category\n",
      "Accessories    8516767.0\n",
      "Clothing       2095486.0\n",
      "Name: Profit, dtype: float64\n"
     ]
    },
    {
     "data": {
      "text/plain": [
       "<AxesSubplot:xlabel='Product_Category'>"
      ]
     },
     "execution_count": 74,
     "metadata": {},
     "output_type": "execute_result"
    },
    {
     "data": {
      "image/png": "[encoded data removed]",
      "text/plain": [
       "<Figure size 720x576 with 1 Axes>"
      ]
     },
     "metadata": {
      "needs_background": "light"
     },
     "output_type": "display_data"
    }
   ],
   "source": [
    "data = sales['Profit'].groupby(sales['Product_Category']).sum().sort_values(ascending=False)[:4]\n",
    "print(data)\n",
    "plt.figure(figsize=(10,8))\n",
    "sns.barplot(x=data.index,y=data.values)"
   ]
  },
  {
   "cell_type": "markdown",
   "id": "a809564c",
   "metadata": {},
   "source": [
    "### Show data when the profit is better "
   ]
  },
  {
   "cell_type": "code",
   "execution_count": 75,
   "id": "a8582d9f",
   "metadata": {},
   "outputs": [
    {
     "data": {
      "text/html": [
       "<div>\n",
       "<style scoped>\n",
       "    .dataframe tbody tr th:only-of-type {\n",
       "        vertical-align: middle;\n",
       "    }\n",
       "\n",
       "    .dataframe tbody tr th {\n",
       "        vertical-align: top;\n",
       "    }\n",
       "\n",
       "    .dataframe thead th {\n",
       "        text-align: right;\n",
       "    }\n",
       "</style>\n",
       "<table border=\"1\" class=\"dataframe\">\n",
       "  <thead>\n",
       "    <tr style=\"text-align: right;\">\n",
       "      <th></th>\n",
       "      <th>Date</th>\n",
       "      <th>Day</th>\n",
       "      <th>Month</th>\n",
       "      <th>Year</th>\n",
       "      <th>Customer_Age</th>\n",
       "      <th>Customer_Gender</th>\n",
       "      <th>Country</th>\n",
       "      <th>State</th>\n",
       "      <th>Product_Category</th>\n",
       "      <th>Sub_Category</th>\n",
       "      <th>Product</th>\n",
       "      <th>Order_Quantity</th>\n",
       "      <th>Unit_Cost</th>\n",
       "      <th>Unit_Price</th>\n",
       "      <th>Profit</th>\n",
       "      <th>Cost</th>\n",
       "      <th>Revenue</th>\n",
       "      <th>Age_Category</th>\n",
       "    </tr>\n",
       "  </thead>\n",
       "  <tbody>\n",
       "    <tr>\n",
       "      <th>42048</th>\n",
       "      <td>2013-11-25</td>\n",
       "      <td>25</td>\n",
       "      <td>November</td>\n",
       "      <td>2013</td>\n",
       "      <td>34.0</td>\n",
       "      <td>F</td>\n",
       "      <td>United States</td>\n",
       "      <td>California</td>\n",
       "      <td>Accessories</td>\n",
       "      <td>Hydration Packs</td>\n",
       "      <td>Hydration Pack - 70 oz.</td>\n",
       "      <td>26</td>\n",
       "      <td>21.0</td>\n",
       "      <td>55.0</td>\n",
       "      <td>855.0</td>\n",
       "      <td>546.0</td>\n",
       "      <td>1401.0</td>\n",
       "      <td>Young Adults</td>\n",
       "    </tr>\n",
       "    <tr>\n",
       "      <th>42443</th>\n",
       "      <td>2016-01-10</td>\n",
       "      <td>10</td>\n",
       "      <td>January</td>\n",
       "      <td>2016</td>\n",
       "      <td>63.0</td>\n",
       "      <td>F</td>\n",
       "      <td>United States</td>\n",
       "      <td>California</td>\n",
       "      <td>Accessories</td>\n",
       "      <td>Hydration Packs</td>\n",
       "      <td>Hydration Pack - 70 oz.</td>\n",
       "      <td>26</td>\n",
       "      <td>21.0</td>\n",
       "      <td>55.0</td>\n",
       "      <td>855.0</td>\n",
       "      <td>546.0</td>\n",
       "      <td>1401.0</td>\n",
       "      <td>Adults</td>\n",
       "    </tr>\n",
       "    <tr>\n",
       "      <th>42617</th>\n",
       "      <td>2015-12-29</td>\n",
       "      <td>29</td>\n",
       "      <td>December</td>\n",
       "      <td>2015</td>\n",
       "      <td>32.0</td>\n",
       "      <td>M</td>\n",
       "      <td>United States</td>\n",
       "      <td>California</td>\n",
       "      <td>Accessories</td>\n",
       "      <td>Hydration Packs</td>\n",
       "      <td>Hydration Pack - 70 oz.</td>\n",
       "      <td>26</td>\n",
       "      <td>21.0</td>\n",
       "      <td>55.0</td>\n",
       "      <td>855.0</td>\n",
       "      <td>546.0</td>\n",
       "      <td>1401.0</td>\n",
       "      <td>Young Adults</td>\n",
       "    </tr>\n",
       "    <tr>\n",
       "      <th>42734</th>\n",
       "      <td>2014-06-08</td>\n",
       "      <td>8</td>\n",
       "      <td>June</td>\n",
       "      <td>2014</td>\n",
       "      <td>41.0</td>\n",
       "      <td>M</td>\n",
       "      <td>United States</td>\n",
       "      <td>California</td>\n",
       "      <td>Accessories</td>\n",
       "      <td>Hydration Packs</td>\n",
       "      <td>Hydration Pack - 70 oz.</td>\n",
       "      <td>26</td>\n",
       "      <td>21.0</td>\n",
       "      <td>55.0</td>\n",
       "      <td>855.0</td>\n",
       "      <td>546.0</td>\n",
       "      <td>1401.0</td>\n",
       "      <td>Adults</td>\n",
       "    </tr>\n",
       "    <tr>\n",
       "      <th>42935</th>\n",
       "      <td>2016-03-16</td>\n",
       "      <td>16</td>\n",
       "      <td>March</td>\n",
       "      <td>2016</td>\n",
       "      <td>51.0</td>\n",
       "      <td>M</td>\n",
       "      <td>United States</td>\n",
       "      <td>California</td>\n",
       "      <td>Accessories</td>\n",
       "      <td>Hydration Packs</td>\n",
       "      <td>Hydration Pack - 70 oz.</td>\n",
       "      <td>26</td>\n",
       "      <td>21.0</td>\n",
       "      <td>55.0</td>\n",
       "      <td>855.0</td>\n",
       "      <td>546.0</td>\n",
       "      <td>1401.0</td>\n",
       "      <td>Adults</td>\n",
       "    </tr>\n",
       "    <tr>\n",
       "      <th>43225</th>\n",
       "      <td>2015-08-23</td>\n",
       "      <td>23</td>\n",
       "      <td>August</td>\n",
       "      <td>2015</td>\n",
       "      <td>31.0</td>\n",
       "      <td>F</td>\n",
       "      <td>United States</td>\n",
       "      <td>California</td>\n",
       "      <td>Accessories</td>\n",
       "      <td>Hydration Packs</td>\n",
       "      <td>Hydration Pack - 70 oz.</td>\n",
       "      <td>26</td>\n",
       "      <td>21.0</td>\n",
       "      <td>55.0</td>\n",
       "      <td>855.0</td>\n",
       "      <td>546.0</td>\n",
       "      <td>1401.0</td>\n",
       "      <td>Young Adults</td>\n",
       "    </tr>\n",
       "    <tr>\n",
       "      <th>72368</th>\n",
       "      <td>2013-08-11</td>\n",
       "      <td>11</td>\n",
       "      <td>August</td>\n",
       "      <td>2013</td>\n",
       "      <td>35.0</td>\n",
       "      <td>M</td>\n",
       "      <td>United States</td>\n",
       "      <td>Oregon</td>\n",
       "      <td>Clothing</td>\n",
       "      <td>Shorts</td>\n",
       "      <td>Women's Mountain Shorts, M</td>\n",
       "      <td>25</td>\n",
       "      <td>26.0</td>\n",
       "      <td>70.0</td>\n",
       "      <td>855.0</td>\n",
       "      <td>650.0</td>\n",
       "      <td>1505.0</td>\n",
       "      <td>Adults</td>\n",
       "    </tr>\n",
       "    <tr>\n",
       "      <th>72402</th>\n",
       "      <td>2014-04-16</td>\n",
       "      <td>16</td>\n",
       "      <td>April</td>\n",
       "      <td>2014</td>\n",
       "      <td>56.0</td>\n",
       "      <td>M</td>\n",
       "      <td>United States</td>\n",
       "      <td>Oregon</td>\n",
       "      <td>Clothing</td>\n",
       "      <td>Shorts</td>\n",
       "      <td>Women's Mountain Shorts, L</td>\n",
       "      <td>25</td>\n",
       "      <td>26.0</td>\n",
       "      <td>70.0</td>\n",
       "      <td>855.0</td>\n",
       "      <td>650.0</td>\n",
       "      <td>1505.0</td>\n",
       "      <td>Adults</td>\n",
       "    </tr>\n",
       "    <tr>\n",
       "      <th>72434</th>\n",
       "      <td>2013-12-21</td>\n",
       "      <td>21</td>\n",
       "      <td>December</td>\n",
       "      <td>2013</td>\n",
       "      <td>40.0</td>\n",
       "      <td>M</td>\n",
       "      <td>United States</td>\n",
       "      <td>Oregon</td>\n",
       "      <td>Clothing</td>\n",
       "      <td>Shorts</td>\n",
       "      <td>Women's Mountain Shorts, S</td>\n",
       "      <td>25</td>\n",
       "      <td>26.0</td>\n",
       "      <td>70.0</td>\n",
       "      <td>855.0</td>\n",
       "      <td>650.0</td>\n",
       "      <td>1505.0</td>\n",
       "      <td>Adults</td>\n",
       "    </tr>\n",
       "    <tr>\n",
       "      <th>72611</th>\n",
       "      <td>2015-12-31</td>\n",
       "      <td>31</td>\n",
       "      <td>December</td>\n",
       "      <td>2015</td>\n",
       "      <td>21.0</td>\n",
       "      <td>M</td>\n",
       "      <td>United States</td>\n",
       "      <td>Oregon</td>\n",
       "      <td>Clothing</td>\n",
       "      <td>Shorts</td>\n",
       "      <td>Women's Mountain Shorts, M</td>\n",
       "      <td>25</td>\n",
       "      <td>26.0</td>\n",
       "      <td>70.0</td>\n",
       "      <td>855.0</td>\n",
       "      <td>650.0</td>\n",
       "      <td>1505.0</td>\n",
       "      <td>Youth</td>\n",
       "    </tr>\n",
       "    <tr>\n",
       "      <th>72709</th>\n",
       "      <td>2016-06-19</td>\n",
       "      <td>19</td>\n",
       "      <td>June</td>\n",
       "      <td>2016</td>\n",
       "      <td>55.0</td>\n",
       "      <td>F</td>\n",
       "      <td>United States</td>\n",
       "      <td>Oregon</td>\n",
       "      <td>Clothing</td>\n",
       "      <td>Shorts</td>\n",
       "      <td>Women's Mountain Shorts, S</td>\n",
       "      <td>25</td>\n",
       "      <td>26.0</td>\n",
       "      <td>70.0</td>\n",
       "      <td>855.0</td>\n",
       "      <td>650.0</td>\n",
       "      <td>1505.0</td>\n",
       "      <td>Adults</td>\n",
       "    </tr>\n",
       "    <tr>\n",
       "      <th>112229</th>\n",
       "      <td>2016-01-04</td>\n",
       "      <td>4</td>\n",
       "      <td>January</td>\n",
       "      <td>2016</td>\n",
       "      <td>35.0</td>\n",
       "      <td>M</td>\n",
       "      <td>France</td>\n",
       "      <td>Nord</td>\n",
       "      <td>Clothing</td>\n",
       "      <td>Vests</td>\n",
       "      <td>Classic Vest, L</td>\n",
       "      <td>27</td>\n",
       "      <td>24.0</td>\n",
       "      <td>64.0</td>\n",
       "      <td>855.0</td>\n",
       "      <td>648.0</td>\n",
       "      <td>1503.0</td>\n",
       "      <td>Adults</td>\n",
       "    </tr>\n",
       "    <tr>\n",
       "      <th>112239</th>\n",
       "      <td>2016-04-30</td>\n",
       "      <td>30</td>\n",
       "      <td>April</td>\n",
       "      <td>2016</td>\n",
       "      <td>43.0</td>\n",
       "      <td>F</td>\n",
       "      <td>Germany</td>\n",
       "      <td>Nordrhein-Westfalen</td>\n",
       "      <td>Clothing</td>\n",
       "      <td>Vests</td>\n",
       "      <td>Classic Vest, M</td>\n",
       "      <td>27</td>\n",
       "      <td>24.0</td>\n",
       "      <td>64.0</td>\n",
       "      <td>855.0</td>\n",
       "      <td>648.0</td>\n",
       "      <td>1503.0</td>\n",
       "      <td>Adults</td>\n",
       "    </tr>\n",
       "    <tr>\n",
       "      <th>112480</th>\n",
       "      <td>2013-08-24</td>\n",
       "      <td>24</td>\n",
       "      <td>August</td>\n",
       "      <td>2013</td>\n",
       "      <td>26.0</td>\n",
       "      <td>F</td>\n",
       "      <td>Australia</td>\n",
       "      <td>New South Wales</td>\n",
       "      <td>Clothing</td>\n",
       "      <td>Vests</td>\n",
       "      <td>Classic Vest, S</td>\n",
       "      <td>27</td>\n",
       "      <td>24.0</td>\n",
       "      <td>64.0</td>\n",
       "      <td>855.0</td>\n",
       "      <td>648.0</td>\n",
       "      <td>1503.0</td>\n",
       "      <td>Young Adults</td>\n",
       "    </tr>\n",
       "    <tr>\n",
       "      <th>112553</th>\n",
       "      <td>2015-07-29</td>\n",
       "      <td>29</td>\n",
       "      <td>July</td>\n",
       "      <td>2015</td>\n",
       "      <td>28.0</td>\n",
       "      <td>F</td>\n",
       "      <td>Australia</td>\n",
       "      <td>New South Wales</td>\n",
       "      <td>Clothing</td>\n",
       "      <td>Vests</td>\n",
       "      <td>Classic Vest, S</td>\n",
       "      <td>27</td>\n",
       "      <td>24.0</td>\n",
       "      <td>64.0</td>\n",
       "      <td>855.0</td>\n",
       "      <td>648.0</td>\n",
       "      <td>1503.0</td>\n",
       "      <td>Young Adults</td>\n",
       "    </tr>\n",
       "    <tr>\n",
       "      <th>112797</th>\n",
       "      <td>2015-10-05</td>\n",
       "      <td>5</td>\n",
       "      <td>October</td>\n",
       "      <td>2015</td>\n",
       "      <td>32.0</td>\n",
       "      <td>F</td>\n",
       "      <td>Australia</td>\n",
       "      <td>New South Wales</td>\n",
       "      <td>Clothing</td>\n",
       "      <td>Vests</td>\n",
       "      <td>Classic Vest, S</td>\n",
       "      <td>27</td>\n",
       "      <td>24.0</td>\n",
       "      <td>64.0</td>\n",
       "      <td>855.0</td>\n",
       "      <td>648.0</td>\n",
       "      <td>1503.0</td>\n",
       "      <td>Young Adults</td>\n",
       "    </tr>\n",
       "  </tbody>\n",
       "</table>\n",
       "</div>"
      ],
      "text/plain": [
       "              Date  Day     Month  Year  Customer_Age Customer_Gender  \\\n",
       "42048   2013-11-25   25  November  2013          34.0               F   \n",
       "42443   2016-01-10   10   January  2016          63.0               F   \n",
       "42617   2015-12-29   29  December  2015          32.0               M   \n",
       "42734   2014-06-08    8      June  2014          41.0               M   \n",
       "42935   2016-03-16   16     March  2016          51.0               M   \n",
       "43225   2015-08-23   23    August  2015          31.0               F   \n",
       "72368   2013-08-11   11    August  2013          35.0               M   \n",
       "72402   2014-04-16   16     April  2014          56.0               M   \n",
       "72434   2013-12-21   21  December  2013          40.0               M   \n",
       "72611   2015-12-31   31  December  2015          21.0               M   \n",
       "72709   2016-06-19   19      June  2016          55.0               F   \n",
       "112229  2016-01-04    4   January  2016          35.0               M   \n",
       "112239  2016-04-30   30     April  2016          43.0               F   \n",
       "112480  2013-08-24   24    August  2013          26.0               F   \n",
       "112553  2015-07-29   29      July  2015          28.0               F   \n",
       "112797  2015-10-05    5   October  2015          32.0               F   \n",
       "\n",
       "              Country                State Product_Category     Sub_Category  \\\n",
       "42048   United States           California      Accessories  Hydration Packs   \n",
       "42443   United States           California      Accessories  Hydration Packs   \n",
       "42617   United States           California      Accessories  Hydration Packs   \n",
       "42734   United States           California      Accessories  Hydration Packs   \n",
       "42935   United States           California      Accessories  Hydration Packs   \n",
       "43225   United States           California      Accessories  Hydration Packs   \n",
       "72368   United States               Oregon         Clothing           Shorts   \n",
       "72402   United States               Oregon         Clothing           Shorts   \n",
       "72434   United States               Oregon         Clothing           Shorts   \n",
       "72611   United States               Oregon         Clothing           Shorts   \n",
       "72709   United States               Oregon         Clothing           Shorts   \n",
       "112229         France                 Nord         Clothing            Vests   \n",
       "112239        Germany  Nordrhein-Westfalen         Clothing            Vests   \n",
       "112480      Australia      New South Wales         Clothing            Vests   \n",
       "112553      Australia      New South Wales         Clothing            Vests   \n",
       "112797      Australia      New South Wales         Clothing            Vests   \n",
       "\n",
       "                           Product  Order_Quantity  Unit_Cost  Unit_Price  \\\n",
       "42048      Hydration Pack - 70 oz.              26       21.0        55.0   \n",
       "42443      Hydration Pack - 70 oz.              26       21.0        55.0   \n",
       "42617      Hydration Pack - 70 oz.              26       21.0        55.0   \n",
       "42734      Hydration Pack - 70 oz.              26       21.0        55.0   \n",
       "42935      Hydration Pack - 70 oz.              26       21.0        55.0   \n",
       "43225      Hydration Pack - 70 oz.              26       21.0        55.0   \n",
       "72368   Women's Mountain Shorts, M              25       26.0        70.0   \n",
       "72402   Women's Mountain Shorts, L              25       26.0        70.0   \n",
       "72434   Women's Mountain Shorts, S              25       26.0        70.0   \n",
       "72611   Women's Mountain Shorts, M              25       26.0        70.0   \n",
       "72709   Women's Mountain Shorts, S              25       26.0        70.0   \n",
       "112229             Classic Vest, L              27       24.0        64.0   \n",
       "112239             Classic Vest, M              27       24.0        64.0   \n",
       "112480             Classic Vest, S              27       24.0        64.0   \n",
       "112553             Classic Vest, S              27       24.0        64.0   \n",
       "112797             Classic Vest, S              27       24.0        64.0   \n",
       "\n",
       "        Profit   Cost  Revenue  Age_Category  \n",
       "42048    855.0  546.0   1401.0  Young Adults  \n",
       "42443    855.0  546.0   1401.0        Adults  \n",
       "42617    855.0  546.0   1401.0  Young Adults  \n",
       "42734    855.0  546.0   1401.0        Adults  \n",
       "42935    855.0  546.0   1401.0        Adults  \n",
       "43225    855.0  546.0   1401.0  Young Adults  \n",
       "72368    855.0  650.0   1505.0        Adults  \n",
       "72402    855.0  650.0   1505.0        Adults  \n",
       "72434    855.0  650.0   1505.0        Adults  \n",
       "72611    855.0  650.0   1505.0         Youth  \n",
       "72709    855.0  650.0   1505.0        Adults  \n",
       "112229   855.0  648.0   1503.0        Adults  \n",
       "112239   855.0  648.0   1503.0        Adults  \n",
       "112480   855.0  648.0   1503.0  Young Adults  \n",
       "112553   855.0  648.0   1503.0  Young Adults  \n",
       "112797   855.0  648.0   1503.0  Young Adults  "
      ]
     },
     "execution_count": 75,
     "metadata": {},
     "output_type": "execute_result"
    }
   ],
   "source": [
    "sales.loc[sales['Profit'] == sales.Profit.max()]"
   ]
  },
  {
   "cell_type": "markdown",
   "id": "4e722c63",
   "metadata": {},
   "source": [
    "### whitch product has low unit cost"
   ]
  },
  {
   "cell_type": "code",
   "execution_count": 88,
   "id": "47ac52a0",
   "metadata": {},
   "outputs": [
    {
     "data": {
      "text/plain": [
       "array(['Patch Kit/8 Patches', 1.0], dtype=object)"
      ]
     },
     "execution_count": 88,
     "metadata": {},
     "output_type": "execute_result"
    }
   ],
   "source": [
    "sales.loc[sales['Unit_Cost'] == sales.Unit_Cost.min()][['Product','Unit_Cost']].values[0]"
   ]
  },
  {
   "cell_type": "markdown",
   "id": "af1df195",
   "metadata": {},
   "source": [
    "###  whitch product has higher cost"
   ]
  },
  {
   "cell_type": "code",
   "execution_count": 89,
   "id": "e9083392",
   "metadata": {},
   "outputs": [
    {
     "data": {
      "text/plain": [
       "array(['All-Purpose Bike Stand', 59.0], dtype=object)"
      ]
     },
     "execution_count": 89,
     "metadata": {},
     "output_type": "execute_result"
    }
   ],
   "source": [
    "sales.loc[sales['Unit_Cost'] == sales.Unit_Cost.max()][['Product','Unit_Cost']].values[0]"
   ]
  },
  {
   "cell_type": "markdown",
   "id": "b0bc795d",
   "metadata": {},
   "source": [
    "### Whitch country made higher order quantity "
   ]
  },
  {
   "cell_type": "code",
   "execution_count": 91,
   "id": "f581745c",
   "metadata": {},
   "outputs": [
    {
     "data": {
      "text/plain": [
       "array(['Germany', 'United Kingdom', 'United States', 'Canada', 'France',\n",
       "       'Australia'], dtype=object)"
      ]
     },
     "execution_count": 91,
     "metadata": {},
     "output_type": "execute_result"
    }
   ],
   "source": [
    "sales.loc[sales['Order_Quantity'] == sales.Order_Quantity.max()]['Country'].unique()"
   ]
  },
  {
   "cell_type": "code",
   "execution_count": 92,
   "id": "878cf0bf",
   "metadata": {},
   "outputs": [
    {
     "data": {
      "text/plain": [
       "array([32], dtype=int64)"
      ]
     },
     "execution_count": 92,
     "metadata": {},
     "output_type": "execute_result"
    }
   ],
   "source": [
    "sales.loc[sales['Order_Quantity'] == sales.Order_Quantity.max()]['Order_Quantity'].unique()"
   ]
  },
  {
   "cell_type": "markdown",
   "id": "dcf60fb2",
   "metadata": {},
   "source": [
    "### Whitch age group made higher order quantity"
   ]
  },
  {
   "cell_type": "code",
   "execution_count": 99,
   "id": "0e3fae17",
   "metadata": {},
   "outputs": [
    {
     "data": {
      "text/plain": [
       "<AxesSubplot:ylabel='Order_Quantity'>"
      ]
     },
     "execution_count": 99,
     "metadata": {},
     "output_type": "execute_result"
    },
    {
     "data": {
      "image/png": "[encoded data removed]",
      "text/plain": [
       "<Figure size 432x288 with 1 Axes>"
      ]
     },
     "metadata": {},
     "output_type": "display_data"
    }
   ],
   "source": [
    "sales['Order_Quantity'].groupby(sales['Age_Category']).sum().plot(kind='pie',autopct=\"%1.1f%%\")"
   ]
  },
  {
   "cell_type": "markdown",
   "id": "fce92fd6",
   "metadata": {},
   "source": [
    "### What is the total cost of each category product"
   ]
  },
  {
   "cell_type": "code",
   "execution_count": 101,
   "id": "5c0ad7e6",
   "metadata": {},
   "outputs": [
    {
     "data": {
      "text/plain": [
       "Product_Category\n",
       "Accessories    429688.0\n",
       "Clothing       325268.0\n",
       "Name: Unit_Cost, dtype: float64"
      ]
     },
     "execution_count": 101,
     "metadata": {},
     "output_type": "execute_result"
    }
   ],
   "source": [
    "data = sales['Unit_Cost'].groupby(sales['Product_Category']).sum()\n",
    "data"
   ]
  },
  {
   "cell_type": "code",
   "execution_count": 102,
   "id": "5a0220b1",
   "metadata": {},
   "outputs": [
    {
     "data": {
      "text/plain": [
       "<AxesSubplot:xlabel='Product_Category'>"
      ]
     },
     "execution_count": 102,
     "metadata": {},
     "output_type": "execute_result"
    },
    {
     "data": {
      "image/png": "[encoded data removed]",
      "text/plain": [
       "<Figure size 432x288 with 1 Axes>"
      ]
     },
     "metadata": {
      "needs_background": "light"
     },
     "output_type": "display_data"
    }
   ],
   "source": [
    "data.plot(kind='bar')"
   ]
  },
  {
   "cell_type": "markdown",
   "id": "499c2603",
   "metadata": {},
   "source": [
    "### What is the net worth"
   ]
  },
  {
   "cell_type": "code",
   "execution_count": 103,
   "id": "aa162f16",
   "metadata": {},
   "outputs": [
    {
     "data": {
      "text/html": [
       "<div>\n",
       "<style scoped>\n",
       "    .dataframe tbody tr th:only-of-type {\n",
       "        vertical-align: middle;\n",
       "    }\n",
       "\n",
       "    .dataframe tbody tr th {\n",
       "        vertical-align: top;\n",
       "    }\n",
       "\n",
       "    .dataframe thead th {\n",
       "        text-align: right;\n",
       "    }\n",
       "</style>\n",
       "<table border=\"1\" class=\"dataframe\">\n",
       "  <thead>\n",
       "    <tr style=\"text-align: right;\">\n",
       "      <th></th>\n",
       "      <th>Date</th>\n",
       "      <th>Day</th>\n",
       "      <th>Month</th>\n",
       "      <th>Year</th>\n",
       "      <th>Customer_Age</th>\n",
       "      <th>Customer_Gender</th>\n",
       "      <th>Country</th>\n",
       "      <th>State</th>\n",
       "      <th>Product_Category</th>\n",
       "      <th>Sub_Category</th>\n",
       "      <th>Product</th>\n",
       "      <th>Order_Quantity</th>\n",
       "      <th>Unit_Cost</th>\n",
       "      <th>Unit_Price</th>\n",
       "      <th>Profit</th>\n",
       "      <th>Cost</th>\n",
       "      <th>Revenue</th>\n",
       "      <th>Age_Category</th>\n",
       "    </tr>\n",
       "  </thead>\n",
       "  <tbody>\n",
       "    <tr>\n",
       "      <th>0</th>\n",
       "      <td>2013-11-26</td>\n",
       "      <td>26</td>\n",
       "      <td>November</td>\n",
       "      <td>2013</td>\n",
       "      <td>19.0</td>\n",
       "      <td>M</td>\n",
       "      <td>Canada</td>\n",
       "      <td>British Columbia</td>\n",
       "      <td>Accessories</td>\n",
       "      <td>Bike Racks</td>\n",
       "      <td>Hitch Rack - 4-Bike</td>\n",
       "      <td>8</td>\n",
       "      <td>45.0</td>\n",
       "      <td>120.0</td>\n",
       "      <td>590.0</td>\n",
       "      <td>360.0</td>\n",
       "      <td>950.0</td>\n",
       "      <td>Youth</td>\n",
       "    </tr>\n",
       "    <tr>\n",
       "      <th>1</th>\n",
       "      <td>2015-11-26</td>\n",
       "      <td>26</td>\n",
       "      <td>November</td>\n",
       "      <td>2015</td>\n",
       "      <td>19.0</td>\n",
       "      <td>M</td>\n",
       "      <td>Canada</td>\n",
       "      <td>British Columbia</td>\n",
       "      <td>Accessories</td>\n",
       "      <td>Bike Racks</td>\n",
       "      <td>Hitch Rack - 4-Bike</td>\n",
       "      <td>8</td>\n",
       "      <td>45.0</td>\n",
       "      <td>120.0</td>\n",
       "      <td>590.0</td>\n",
       "      <td>360.0</td>\n",
       "      <td>950.0</td>\n",
       "      <td>Youth</td>\n",
       "    </tr>\n",
       "    <tr>\n",
       "      <th>4</th>\n",
       "      <td>2014-05-15</td>\n",
       "      <td>15</td>\n",
       "      <td>May</td>\n",
       "      <td>2014</td>\n",
       "      <td>47.0</td>\n",
       "      <td>F</td>\n",
       "      <td>Australia</td>\n",
       "      <td>New South Wales</td>\n",
       "      <td>Accessories</td>\n",
       "      <td>Bike Racks</td>\n",
       "      <td>Hitch Rack - 4-Bike</td>\n",
       "      <td>4</td>\n",
       "      <td>45.0</td>\n",
       "      <td>120.0</td>\n",
       "      <td>238.0</td>\n",
       "      <td>180.0</td>\n",
       "      <td>418.0</td>\n",
       "      <td>Adults</td>\n",
       "    </tr>\n",
       "    <tr>\n",
       "      <th>5</th>\n",
       "      <td>2016-05-15</td>\n",
       "      <td>15</td>\n",
       "      <td>May</td>\n",
       "      <td>2016</td>\n",
       "      <td>47.0</td>\n",
       "      <td>F</td>\n",
       "      <td>Australia</td>\n",
       "      <td>New South Wales</td>\n",
       "      <td>Accessories</td>\n",
       "      <td>Bike Racks</td>\n",
       "      <td>Hitch Rack - 4-Bike</td>\n",
       "      <td>5</td>\n",
       "      <td>45.0</td>\n",
       "      <td>120.0</td>\n",
       "      <td>297.0</td>\n",
       "      <td>225.0</td>\n",
       "      <td>522.0</td>\n",
       "      <td>Adults</td>\n",
       "    </tr>\n",
       "    <tr>\n",
       "      <th>6</th>\n",
       "      <td>2014-05-22</td>\n",
       "      <td>22</td>\n",
       "      <td>May</td>\n",
       "      <td>2014</td>\n",
       "      <td>47.0</td>\n",
       "      <td>F</td>\n",
       "      <td>Australia</td>\n",
       "      <td>Victoria</td>\n",
       "      <td>Accessories</td>\n",
       "      <td>Bike Racks</td>\n",
       "      <td>Hitch Rack - 4-Bike</td>\n",
       "      <td>4</td>\n",
       "      <td>45.0</td>\n",
       "      <td>120.0</td>\n",
       "      <td>199.0</td>\n",
       "      <td>180.0</td>\n",
       "      <td>379.0</td>\n",
       "      <td>Adults</td>\n",
       "    </tr>\n",
       "  </tbody>\n",
       "</table>\n",
       "</div>"
      ],
      "text/plain": [
       "         Date  Day     Month  Year  Customer_Age Customer_Gender    Country  \\\n",
       "0  2013-11-26   26  November  2013          19.0               M     Canada   \n",
       "1  2015-11-26   26  November  2015          19.0               M     Canada   \n",
       "4  2014-05-15   15       May  2014          47.0               F  Australia   \n",
       "5  2016-05-15   15       May  2016          47.0               F  Australia   \n",
       "6  2014-05-22   22       May  2014          47.0               F  Australia   \n",
       "\n",
       "              State Product_Category Sub_Category              Product  \\\n",
       "0  British Columbia      Accessories   Bike Racks  Hitch Rack - 4-Bike   \n",
       "1  British Columbia      Accessories   Bike Racks  Hitch Rack - 4-Bike   \n",
       "4   New South Wales      Accessories   Bike Racks  Hitch Rack - 4-Bike   \n",
       "5   New South Wales      Accessories   Bike Racks  Hitch Rack - 4-Bike   \n",
       "6          Victoria      Accessories   Bike Racks  Hitch Rack - 4-Bike   \n",
       "\n",
       "   Order_Quantity  Unit_Cost  Unit_Price  Profit   Cost  Revenue Age_Category  \n",
       "0               8       45.0       120.0   590.0  360.0    950.0        Youth  \n",
       "1               8       45.0       120.0   590.0  360.0    950.0        Youth  \n",
       "4               4       45.0       120.0   238.0  180.0    418.0       Adults  \n",
       "5               5       45.0       120.0   297.0  225.0    522.0       Adults  \n",
       "6               4       45.0       120.0   199.0  180.0    379.0       Adults  "
      ]
     },
     "execution_count": 103,
     "metadata": {},
     "output_type": "execute_result"
    }
   ],
   "source": [
    "sales.head()"
   ]
  },
  {
   "cell_type": "code",
   "execution_count": 104,
   "id": "15590e67",
   "metadata": {},
   "outputs": [
    {
     "data": {
      "text/plain": [
       "10612253.0"
      ]
     },
     "execution_count": 104,
     "metadata": {},
     "output_type": "execute_result"
    }
   ],
   "source": [
    "sales['Profit'].sum()"
   ]
  },
  {
   "cell_type": "code",
   "execution_count": 17,
   "id": "9a78e9db",
   "metadata": {},
   "outputs": [
    {
     "data": {
      "text/html": [
       "<div>\n",
       "<style scoped>\n",
       "    .dataframe tbody tr th:only-of-type {\n",
       "        vertical-align: middle;\n",
       "    }\n",
       "\n",
       "    .dataframe tbody tr th {\n",
       "        vertical-align: top;\n",
       "    }\n",
       "\n",
       "    .dataframe thead th {\n",
       "        text-align: right;\n",
       "    }\n",
       "</style>\n",
       "<table border=\"1\" class=\"dataframe\">\n",
       "  <thead>\n",
       "    <tr style=\"text-align: right;\">\n",
       "      <th></th>\n",
       "      <th>Date</th>\n",
       "      <th>Day</th>\n",
       "      <th>Month</th>\n",
       "      <th>Year</th>\n",
       "      <th>Customer_Age</th>\n",
       "      <th>Customer_Gender</th>\n",
       "      <th>Country</th>\n",
       "      <th>State</th>\n",
       "      <th>Product_Category</th>\n",
       "      <th>Sub_Category</th>\n",
       "      <th>Product</th>\n",
       "      <th>Order_Quantity</th>\n",
       "      <th>Unit_Cost</th>\n",
       "      <th>Unit_Price</th>\n",
       "      <th>Profit</th>\n",
       "      <th>Cost</th>\n",
       "      <th>Revenue</th>\n",
       "      <th>Age_Category</th>\n",
       "    </tr>\n",
       "  </thead>\n",
       "  <tbody>\n",
       "    <tr>\n",
       "      <th>0</th>\n",
       "      <td>2013-11-26</td>\n",
       "      <td>26</td>\n",
       "      <td>November</td>\n",
       "      <td>2013</td>\n",
       "      <td>19.0</td>\n",
       "      <td>M</td>\n",
       "      <td>Canada</td>\n",
       "      <td>British Columbia</td>\n",
       "      <td>Accessories</td>\n",
       "      <td>Bike Racks</td>\n",
       "      <td>Hitch Rack - 4-Bike</td>\n",
       "      <td>8</td>\n",
       "      <td>45.0</td>\n",
       "      <td>120.0</td>\n",
       "      <td>590.0</td>\n",
       "      <td>360.0</td>\n",
       "      <td>950.0</td>\n",
       "      <td>Youth</td>\n",
       "    </tr>\n",
       "    <tr>\n",
       "      <th>1</th>\n",
       "      <td>2015-11-26</td>\n",
       "      <td>26</td>\n",
       "      <td>November</td>\n",
       "      <td>2015</td>\n",
       "      <td>19.0</td>\n",
       "      <td>M</td>\n",
       "      <td>Canada</td>\n",
       "      <td>British Columbia</td>\n",
       "      <td>Accessories</td>\n",
       "      <td>Bike Racks</td>\n",
       "      <td>Hitch Rack - 4-Bike</td>\n",
       "      <td>8</td>\n",
       "      <td>45.0</td>\n",
       "      <td>120.0</td>\n",
       "      <td>590.0</td>\n",
       "      <td>360.0</td>\n",
       "      <td>950.0</td>\n",
       "      <td>Youth</td>\n",
       "    </tr>\n",
       "    <tr>\n",
       "      <th>4</th>\n",
       "      <td>2014-05-15</td>\n",
       "      <td>15</td>\n",
       "      <td>May</td>\n",
       "      <td>2014</td>\n",
       "      <td>47.0</td>\n",
       "      <td>F</td>\n",
       "      <td>Australia</td>\n",
       "      <td>New South Wales</td>\n",
       "      <td>Accessories</td>\n",
       "      <td>Bike Racks</td>\n",
       "      <td>Hitch Rack - 4-Bike</td>\n",
       "      <td>4</td>\n",
       "      <td>45.0</td>\n",
       "      <td>120.0</td>\n",
       "      <td>238.0</td>\n",
       "      <td>180.0</td>\n",
       "      <td>418.0</td>\n",
       "      <td>Adults</td>\n",
       "    </tr>\n",
       "    <tr>\n",
       "      <th>5</th>\n",
       "      <td>2016-05-15</td>\n",
       "      <td>15</td>\n",
       "      <td>May</td>\n",
       "      <td>2016</td>\n",
       "      <td>47.0</td>\n",
       "      <td>F</td>\n",
       "      <td>Australia</td>\n",
       "      <td>New South Wales</td>\n",
       "      <td>Accessories</td>\n",
       "      <td>Bike Racks</td>\n",
       "      <td>Hitch Rack - 4-Bike</td>\n",
       "      <td>5</td>\n",
       "      <td>45.0</td>\n",
       "      <td>120.0</td>\n",
       "      <td>297.0</td>\n",
       "      <td>225.0</td>\n",
       "      <td>522.0</td>\n",
       "      <td>Adults</td>\n",
       "    </tr>\n",
       "    <tr>\n",
       "      <th>6</th>\n",
       "      <td>2014-05-22</td>\n",
       "      <td>22</td>\n",
       "      <td>May</td>\n",
       "      <td>2014</td>\n",
       "      <td>47.0</td>\n",
       "      <td>F</td>\n",
       "      <td>Australia</td>\n",
       "      <td>Victoria</td>\n",
       "      <td>Accessories</td>\n",
       "      <td>Bike Racks</td>\n",
       "      <td>Hitch Rack - 4-Bike</td>\n",
       "      <td>4</td>\n",
       "      <td>45.0</td>\n",
       "      <td>120.0</td>\n",
       "      <td>199.0</td>\n",
       "      <td>180.0</td>\n",
       "      <td>379.0</td>\n",
       "      <td>Adults</td>\n",
       "    </tr>\n",
       "  </tbody>\n",
       "</table>\n",
       "</div>"
      ],
      "text/plain": [
       "         Date  Day     Month  Year  Customer_Age Customer_Gender    Country  \\\n",
       "0  2013-11-26   26  November  2013          19.0               M     Canada   \n",
       "1  2015-11-26   26  November  2015          19.0               M     Canada   \n",
       "4  2014-05-15   15       May  2014          47.0               F  Australia   \n",
       "5  2016-05-15   15       May  2016          47.0               F  Australia   \n",
       "6  2014-05-22   22       May  2014          47.0               F  Australia   \n",
       "\n",
       "              State Product_Category Sub_Category              Product  \\\n",
       "0  British Columbia      Accessories   Bike Racks  Hitch Rack - 4-Bike   \n",
       "1  British Columbia      Accessories   Bike Racks  Hitch Rack - 4-Bike   \n",
       "4   New South Wales      Accessories   Bike Racks  Hitch Rack - 4-Bike   \n",
       "5   New South Wales      Accessories   Bike Racks  Hitch Rack - 4-Bike   \n",
       "6          Victoria      Accessories   Bike Racks  Hitch Rack - 4-Bike   \n",
       "\n",
       "   Order_Quantity  Unit_Cost  Unit_Price  Profit   Cost  Revenue Age_Category  \n",
       "0               8       45.0       120.0   590.0  360.0    950.0        Youth  \n",
       "1               8       45.0       120.0   590.0  360.0    950.0        Youth  \n",
       "4               4       45.0       120.0   238.0  180.0    418.0       Adults  \n",
       "5               5       45.0       120.0   297.0  225.0    522.0       Adults  \n",
       "6               4       45.0       120.0   199.0  180.0    379.0       Adults  "
      ]
     },
     "execution_count": 17,
     "metadata": {},
     "output_type": "execute_result"
    }
   ],
   "source": [
    "sales.head()"
   ]
  },
  {
   "cell_type": "code",
   "execution_count": null,
   "id": "95bafd87",
   "metadata": {},
   "outputs": [],
   "source": []
  }
 ],
 "metadata": {
  "kernelspec": {
   "display_name": "Python 3",
   "language": "python",
   "name": "python3"
  },
  "language_info": {
   "codemirror_mode": {
    "name": "ipython",
    "version": 3
   },
   "file_extension": ".py",
   "mimetype": "text/x-python",
   "name": "python",
   "nbconvert_exporter": "python",
   "pygments_lexer": "ipython3",
   "version": "3.8.8"
  }
 },
 "nbformat": 4,
 "nbformat_minor": 5
}
