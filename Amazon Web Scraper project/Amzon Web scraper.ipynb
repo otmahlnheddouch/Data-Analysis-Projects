{
 "cells": [
  {
   "cell_type": "code",
   "execution_count": 1,
   "id": "39849573",
   "metadata": {},
   "outputs": [],
   "source": [
    "# import libraries \n",
    "\n",
    "from bs4 import BeautifulSoup\n",
    "import requests\n",
    "import time\n",
    "import datetime\n",
    "import smtplib\n"
   ]
  },
  {
   "cell_type": "code",
   "execution_count": 2,
   "id": "1397a9fd",
   "metadata": {},
   "outputs": [],
   "source": [
    "re = \"https://www.amazon.com/s?k=data%2Banalyst%2Btshirt&ref=nb_sb_noss\"\n",
    "headers = {\"User-Agent\": \"Mozilla/5.0 (Windows NT 10.0; Win64; x64) AppleWebKit/537.36 (KHTML, like Gecko) Chrome/78.0.3904.108 Safari/537.36\", \"Accept-Encoding\":\"gzip, deflate\", \"Accept\":\"text/html,application/xhtml+xml,application/xml;q=0.9,*/*;q=0.8\", \"DNT\":\"1\",\"Connection\":\"close\", \"Upgrade-Insecure-Requests\":\"1\"}\n",
    "\n",
    "r = requests.get(re, headers=headers)\n",
    "soup  = BeautifulSoup(r.content,'html.parser')\n",
    "url_ = []\n",
    "link = 'https://www.amazon.com/'\n",
    "for i in soup.find_all('a',class_='a-link-normal s-no-outline',href=True):\n",
    "    url_.append(link+i['href'])"
   ]
  },
  {
   "cell_type": "code",
   "execution_count": null,
   "id": "807ac577",
   "metadata": {
    "scrolled": true
   },
   "outputs": [
    {
     "name": "stdout",
     "output_type": "stream",
     "text": [
      "0\n",
      "1\n",
      "2\n",
      "3\n",
      "4\n",
      "5\n",
      "6\n",
      "7\n",
      "8\n",
      "9\n",
      "10\n",
      "11\n",
      "12\n",
      "13\n",
      "14\n",
      "15\n",
      "16\n",
      "17\n",
      "18\n",
      "19\n",
      "20\n",
      "21\n",
      "22\n",
      "23\n",
      "24\n",
      "25\n"
     ]
    }
   ],
   "source": [
    "headers = {\"User-Agent\": \"Mozilla/5.0 (Windows NT 7.0; Win64; x64) AppleWebKit/537.36 (KHTML, like Gecko) Chrome/78.0.3904.108 Safari/537.36\", \"Accept-Encoding\":\"gzip, deflate\", \"Accept\":\"text/html,application/xhtml+xml,application/xml;q=0.9,*/*;q=0.8\", \"DNT\":\"1\",\"Connection\":\"close\", \"Upgrade-Insecure-Requests\":\"1\"}\n",
    "titles = []\n",
    "for i, k in enumerate(url_):\n",
    "    r = requests.get(k, headers=headers)\n",
    "    soup  = BeautifulSoup(r.content,'html.parser')\n",
    "    soup2 = soup.find('h1',id='title')\n",
    "    titles.append(soup2.text)\n",
    "    print(i)"
   ]
  },
  {
   "cell_type": "code",
   "execution_count": null,
   "id": "ce871071",
   "metadata": {
    "scrolled": true
   },
   "outputs": [],
   "source": [
    "title"
   ]
  },
  {
   "cell_type": "code",
   "execution_count": null,
   "id": "97134e43",
   "metadata": {},
   "outputs": [],
   "source": [
    "## PRICE\n",
    "headers = {\"User-Agent\": \"Mozilla/5.0 (Windows NT 7.0; Win64; x64) AppleWebKit/537.36 (KHTML, like Gecko) Chrome/78.0.3904.108 Safari/537.36\", \"Accept-Encoding\":\"gzip, deflate\", \"Accept\":\"text/html,application/xhtml+xml,application/xml;q=0.9,*/*;q=0.8\", \"DNT\":\"1\",\"Connection\":\"close\", \"Upgrade-Insecure-Requests\":\"1\"}\n",
    "prices = []\n",
    "description = []\n",
    "colors = []\n",
    "for i, k in enumerate(url_[:4]):\n",
    "    r = requests.get(k, headers=headers)\n",
    "    soup  = BeautifulSoup(r.content,'html.parser')\n",
    "    soup3 = soup.find('span',class_='a-price-range')\n",
    "    try: \n",
    "        prices.append(soup3.text)\n",
    "    except:\n",
    "        price.append('NaN')\n",
    "    print(i)"
   ]
  },
  {
   "cell_type": "code",
   "execution_count": null,
   "id": "93816d3c",
   "metadata": {},
   "outputs": [],
   "source": [
    "## Rating\n",
    "headers = {\"User-Agent\": \"Mozilla/5.0 (Windows NT 7.0; Win64; x64) AppleWebKit/537.36 (KHTML, like Gecko) Chrome/78.0.3904.108 Safari/537.36\", \"Accept-Encoding\":\"gzip, deflate\", \"Accept\":\"text/html,application/xhtml+xml,application/xml;q=0.9,*/*;q=0.8\", \"DNT\":\"1\",\"Connection\":\"close\", \"Upgrade-Insecure-Requests\":\"1\"}\n",
    "customer_review = []\n",
    "for i, k in enumerate(url_):\n",
    "    r = requests.get(k, headers=headers)\n",
    "    soup  = BeautifulSoup(r.content,'html.parser')\n",
    "    soup2 = soup.find('span',class_='a-size-base a-color-secondary')\n",
    "    try:\n",
    "        customer_review.append(soup2.text)\n",
    "    except:\n",
    "        customer_review.append('No review')\n",
    "    print(i)"
   ]
  },
  {
   "cell_type": "code",
   "execution_count": null,
   "id": "8457a194",
   "metadata": {},
   "outputs": [],
   "source": [
    "## Description\n",
    "headers = {\"User-Agent\": \"Mozilla/5.0 (Windows NT 7.0; Win64; x64) AppleWebKit/537.36 (KHTML, like Gecko) Chrome/78.0.3904.108 Safari/537.36\", \"Accept-Encoding\":\"gzip, deflate\", \"Accept\":\"text/html,application/xhtml+xml,application/xml;q=0.9,*/*;q=0.8\", \"DNT\":\"1\",\"Connection\":\"close\", \"Upgrade-Insecure-Requests\":\"1\"}\n",
    "description = []\n",
    "for i, k in enumerate(url_[:7]):\n",
    "    r = requests.get(k, headers=headers)\n",
    "    soup  = BeautifulSoup(r.content,'html.parser')\n",
    "    soup2 = soup.find('div',class_='your class herr')\n",
    "    try:\n",
    "        description.append(soup2.text)\n",
    "    except:\n",
    "        description.append('No Description')\n",
    "    print(i)"
   ]
  },
  {
   "cell_type": "code",
   "execution_count": null,
   "id": "cbab26a0",
   "metadata": {},
   "outputs": [],
   "source": [
    "## Color\n",
    "headers = {\"User-Agent\": \"Mozilla/5.0 (Windows NT 7.0; Win64; x64) AppleWebKit/537.36 (KHTML, like Gecko) Chrome/78.0.3904.108 Safari/537.36\", \"Accept-Encoding\":\"gzip, deflate\", \"Accept\":\"text/html,application/xhtml+xml,application/xml;q=0.9,*/*;q=0.8\", \"DNT\":\"1\",\"Connection\":\"close\", \"Upgrade-Insecure-Requests\":\"1\"}\n",
    "colors = []\n",
    "for i, k in enumerate(url_):\n",
    "    r = requests.get(k, headers=headers)\n",
    "    soup  = BeautifulSoup(r.content,'html.parser')\n",
    "    soup2 = soup.find('div',class_='your class herr')\n",
    "    try:\n",
    "        colors.append(soup2.text)\n",
    "    except:\n",
    "        colors.append('No Color')\n",
    "    print(i)"
   ]
  },
  {
   "cell_type": "code",
   "execution_count": null,
   "id": "071eec6f",
   "metadata": {},
   "outputs": [],
   "source": [
    "col = [\"Product name\",'Price',\"Description\",\"Customer review\",'Colors']\n",
    "data = [title,price,descirption,customer_review,colors]\n",
    "df = pd.DataFrame(data=data,columns=col)"
   ]
  },
  {
   "cell_type": "code",
   "execution_count": null,
   "id": "e56518d7",
   "metadata": {},
   "outputs": [],
   "source": [
    "df.to_csv('Amazondataset.csv')"
   ]
  },
  {
   "cell_type": "code",
   "execution_count": null,
   "id": "e0b4bfe9",
   "metadata": {},
   "outputs": [],
   "source": []
  },
  {
   "cell_type": "code",
   "execution_count": null,
   "id": "2ea4facb",
   "metadata": {},
   "outputs": [],
   "source": []
  },
  {
   "cell_type": "code",
   "execution_count": null,
   "id": "f3cea8d2",
   "metadata": {},
   "outputs": [],
   "source": []
  },
  {
   "cell_type": "code",
   "execution_count": null,
   "id": "6247acb8",
   "metadata": {},
   "outputs": [],
   "source": []
  }
 ],
 "metadata": {
  "kernelspec": {
   "display_name": "Python 3",
   "language": "python",
   "name": "python3"
  },
  "language_info": {
   "codemirror_mode": {
    "name": "ipython",
    "version": 3
   },
   "file_extension": ".py",
   "mimetype": "text/x-python",
   "name": "python",
   "nbconvert_exporter": "python",
   "pygments_lexer": "ipython3",
   "version": "3.8.7"
  }
 },
 "nbformat": 4,
 "nbformat_minor": 5
}
